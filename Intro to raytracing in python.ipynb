{
 "cells": [
  {
   "cell_type": "markdown",
   "metadata": {},
   "source": [
    "# Intro to raytracing in python\n",
    "Welcome to this introduction to ray tracing using the worlds most beautiful programing language, Python.\n",
    "In this introduction, we will build a ray-tracer.\n",
    "This ray-tracer will mostly feature basic features, but understanding these is essential for doing more advanced ray-tracing work.\n",
    "Although Python is awesome, it might not be the 'ideal' language for a ray tracer. Python is however very readable.\n",
    "So if you want to program your own ray-tracer, by all means, do it in C, C++ or a similarly performant language.\n",
    "\n",
    "I strongly encourage you to follow along with this tutorial and to build your own ray tracer, as that will help a lot with understanding all the concepts.\n",
    "All the code in this tutorial is runnable because this is a jupyter notebook.\n",
    "You can run the code as you go, or you can run all cells while you read.\n",
    "I also made a python file with all the final code that you can use for reference.\n",
    "\n",
    "If you really can not wait to see what you will be able to create at the end of the tutorial,\n",
    "you can check out the MP4 that is also in the same folder.\n",
    "\n",
    "Have fun!"
   ]
  },
  {
   "cell_type": "markdown",
   "metadata": {
    "pycharm": {
     "is_executing": false
    }
   },
   "source": [
    "## Part 1: In the beginning there was only triangles and rays\n",
    "\n",
    "The 2 fundamental parts of a ray-tracer are rays and triangles.\n",
    "\n",
    "In the world of computer graphics, triangles are a great way to create 3D models.\n",
    "Using sufficiently many triangles you could make any 3D shape that you would ever want (even if sufficiently many can mean \"infinitely many\" with curved surfaces, but if you use enough, no one will be able to tell the difference.\n",
    "It will look just like a curved surface, and that its just triangles can stay our little secret!)\n",
    "The easiest way to define a triangle is through its corner positions.\n",
    "That is all info that we need right now!\n",
    "\n",
    "![sphere from triangles](https://i.stack.imgur.com/RhJgj.gif)\n",
    "\n",
    "To simulate light, we need to be able to simulate light rays. Because this is a basic ray-tracer, we will do something that might seem a bit weird.\n",
    "instead of sending \"photons\" from our lamps and seeing how they fall onto the camera, as would happen in the real world, we will do the opposite.\n",
    "We start from the camera's point of view and look at the scene.\n",
    "\n",
    "![Tracing from the camera](https://www.scratchapixel.com/images/upload/ray-tracing-refresher/rt-setup2.png?)\n",
    "\n",
    "Let's start with a simple triangle class"
   ]
  },
  {
   "cell_type": "code",
   "execution_count": 1,
   "metadata": {
    "pycharm": {
     "is_executing": false
    }
   },
   "outputs": [],
   "source": [
    "class Triangle:\n",
    "    def __init__(self, a, b, c):\n",
    "        '''\n",
    "        Basic triangle class.\n",
    "        :param a: First corner\n",
    "        :param b: Second corner\n",
    "        :param c: Third corner\n",
    "        '''\n",
    "        self.a = a\n",
    "        self.b = b\n",
    "        self.c = c"
   ]
  },
  {
   "cell_type": "markdown",
   "metadata": {
    "pycharm": {
     "name": "#%% md\n"
    }
   },
   "source": [
    "Now we need the simple ray class\n"
   ]
  },
  {
   "cell_type": "code",
   "execution_count": 2,
   "metadata": {
    "pycharm": {
     "name": "#%%\n"
    }
   },
   "outputs": [],
   "source": [
    "class Ray:\n",
    "    def __init__(self, origin, direction):\n",
    "        '''\n",
    "        Basic ray class.\n",
    "        :param origin: Origin/starting point of the ray\n",
    "        :param direction: Direction of the ray\n",
    "        '''\n",
    "        self.origin = origin\n",
    "        self.direction = direction\n",
    "        \n"
   ]
  },
  {
   "cell_type": "markdown",
   "metadata": {},
   "source": [
    "We already have our 2 most important classes!\n",
    "It is time to move towards creating our first test image as soon as possible right?\n",
    "\n",
    "Well, we will get there soon, I promise. But first, we need 4 more features for our ray-tracer."
   ]
  },
  {
   "cell_type": "markdown",
   "metadata": {},
   "source": [
    "## Part 2: When suddenly a wild camera appeared\n",
    "The features that we need are:\n",
    "- A little bit of vector magic\n",
    "- Ray triangle intersection testing\n",
    "- A ray-tracing function\n",
    "- A camera \n",
    "\n",
    "We need some way to represent points in our virtual world. Vectors are a nice solution for ray tracing.\n",
    "Using vectors we can define triangles and rays!\n",
    "We can even use it to locate our camera in the world ones we made a camera.\n",
    "This is not a linear algebra course however, so I added a little MathUtil library to this project, which we can just import. \n",
    "Feel free to look into the MathUtil.py file if you want to learn more about the implementation of vectors.\n",
    "\n",
    "Let's import the library and give some examples:"
   ]
  },
  {
   "cell_type": "code",
   "execution_count": 3,
   "metadata": {
    "pycharm": {
     "is_executing": false,
     "name": "#%%\n"
    }
   },
   "outputs": [],
   "source": [
    "from math import *\n",
    "from MathUtil import *\n",
    "\n",
    "# Point_a is a point with:\n",
    "# x = 1, y = 2, z = 3\n",
    "point_a = Vec3(1,2,3)\n",
    "\n",
    "# Point_b is a point with:\n",
    "# x = -1, y = 5, z = 0\n",
    "point_b = Vec3(-1,5,0)\n",
    "\n",
    "# You can subtract vectors\n",
    "point_c = point_a-point_b\n",
    "print(f\"Point_c: {point_c}\")\n",
    "\n",
    "# Or calculate the distance\n",
    "dist = point_a.distance(point_b)\n",
    "print(f\"distance: {dist}\")"
   ]
  },
  {
   "cell_type": "markdown",
   "metadata": {},
   "source": [
    "There are quite some operations which we can do with vectors, and there are even 2D vectors in the Math Util library (named Vec2, as you might have guessed). \n",
    "I won't list them all here, but we will just use them when we need them.\n"
   ]
  },
  {
   "cell_type": "markdown",
   "metadata": {},
   "source": [
    "Ray triangle intersection testing will be a bit more work, but this is the first interesting part!\n",
    "![ray triangle intersection](https://la.mathworks.com/matlabcentral/mlc-downloads/downloads/submissions/49670/versions/3/screenshot.jpg)\n",
    "\n",
    "\n"
   ]
  },
  {
   "cell_type": "code",
   "execution_count": 4,
   "metadata": {
    "pycharm": {
     "name": "#%%\n"
    }
   },
   "outputs": [],
   "source": [
    "def ray_triangle_intersect(self, other):\n",
    "    '''\n",
    "    Test if the ray hits the triangle.\n",
    "    :param self: The ray\n",
    "    :param other: The triangle\n",
    "    :return: Distance to triangle, 0/False is no hit\n",
    "    '''\n",
    "    \n",
    "    # Calculate the vectors describing the edges of the triangle\n",
    "    edge1 = other.b - other.a\n",
    "    edge2 = other.c - other.a\n",
    "    \n",
    "    # Check if the ray and triangle are not parallel\n",
    "    h = self.direction.cross_product(edge2)\n",
    "    a = edge1.dot(h)\n",
    "\n",
    "    if -EPSILON < a < EPSILON:\n",
    "        return False\n",
    "    \n",
    "    # Calculate U/V (barycentric coordinates) of the hit on the triangle\n",
    "    f = 1.0 / a\n",
    "    s = self.origin - other.a\n",
    "    u = f * (s.dot(h))\n",
    "    \n",
    "    q = s.cross_product(edge1)\n",
    "    v = f * self.direction.dot(q)\n",
    "\n",
    "    # The U must be between 0 and one\n",
    "    if u < 0 or u > 1:\n",
    "        return False\n",
    "    \n",
    "    # The V must be larger than 0, and U+V must be smaller than one\n",
    "    if v < 0 or u + v > 1:\n",
    "        return False\n",
    "    \n",
    "    # Calculate the distance from the origin of the ray to the hit\n",
    "    t = f * edge2.dot(q)\n",
    "\n",
    "    # The distance must be positive because,\n",
    "    # otherwise the triangle could be behind the ray\n",
    "    if t < EPSILON:\n",
    "        return False\n",
    "    \n",
    "    # There was a hit! Return the distance\n",
    "    return t\n"
   ]
  },
  {
   "cell_type": "markdown",
   "metadata": {},
   "source": [
    "We now need to add this function to the Ray class.\n",
    "Adding functions to a class outside of the class definition might not be the cleanest thing to do, but it does the trick.\n",
    "This is called \"monkey patching\".\n",
    "I'm using a separate code cell for this right now, but in the future, if I make a function that should be in a class, I will do so just after the function definition. "
   ]
  },
  {
   "cell_type": "code",
   "execution_count": 5,
   "metadata": {
    "pycharm": {
     "name": "#%%\n"
    }
   },
   "outputs": [],
   "source": [
    "Ray.triangle_intersection_test = ray_triangle_intersect"
   ]
  },
  {
   "cell_type": "markdown",
   "metadata": {},
   "source": [
    "Now we need the \"Ray tracing function\"\n",
    "This will be the function which receives a ray and returns the output colour.\n",
    "We will start with a really basic function which just returns black when it hits nothing, and white if it hits a triangle."
   ]
  },
  {
   "cell_type": "code",
   "execution_count": 6,
   "metadata": {
    "pycharm": {
     "name": "#%%\n"
    }
   },
   "outputs": [],
   "source": [
    "def trace_ray(ray, triangles):\n",
    "    '''\n",
    "    Returns the color of the ray.\n",
    "    White = hit\n",
    "    Black = miss \n",
    "    :param ray: Ray that has been shot into the world\n",
    "    :param triangles: list of triangles in the world\n",
    "    :return: color\n",
    "    '''\n",
    "    \n",
    "    # Loop over all triangles\n",
    "    for tri in triangles:\n",
    "        # And if there is a hit\n",
    "        if ray.triangle_intersection_test(tri):\n",
    "            # Return white\n",
    "            return Vec3(1.0)\n",
    "    # Else, return black\n",
    "    return Vec3(0.0)"
   ]
  },
  {
   "cell_type": "markdown",
   "metadata": {},
   "source": [
    "Now the only thing that we need is a camera!\n",
    "The camera will loop over all the directions that it looks at, as is illustrated in the second picture.\n",
    "For each of the directions, it will call the ray trace function, and save the result.\n",
    "When it's done it will show the image!\n",
    "We will use matplotlib for this\n"
   ]
  },
  {
   "cell_type": "code",
   "execution_count": 7,
   "metadata": {
    "pycharm": {
     "name": "#%%\n"
    }
   },
   "outputs": [],
   "source": [
    "from matplotlib import pyplot as plt\n",
    "\n",
    "def camera(camera_pos, width, height, fov, triangles):\n",
    "    '''\n",
    "    Renders a image of width*height pixels, of the world of triangles.\n",
    "    As seen from the camera position\n",
    "    The field of view is how \"wide\" the lens is.\n",
    "    :param camera_pos: camera position\n",
    "    :param width: horizontal pixels\n",
    "    :param height: vertical pixels\n",
    "    :param fov: field of view\n",
    "    :param triangles: triangles in the world\n",
    "    '''\n",
    "    \n",
    "    image = []\n",
    "    \n",
    "    angle = tan(pi * 0.5 * fov / 180)\n",
    "    aspect_ratio = width / height\n",
    "    inv_width = 1/width\n",
    "    inv_height = 1/height\n",
    "    \n",
    "    # For all pixels of the image\n",
    "    for y in range(height):\n",
    "        row = []\n",
    "        for x in range(width):\n",
    "            # Calculate the direction of the ray for this pixel\n",
    "            xdir = (2 * x * inv_width - 1) * angle * aspect_ratio\n",
    "            ydir = (1 - 2 * y * inv_height) * angle\n",
    "            \n",
    "            raydir = Vec3(xdir, ydir, 1)\n",
    "            raydir.normalize()\n",
    "            \n",
    "            # Create the ray\n",
    "            ray = Ray(camera_pos, raydir)\n",
    "            \n",
    "            # Trace the ray, and convert color from Vec3 to [r,g,b]\n",
    "            col = trace_ray(ray, triangles).toList()\n",
    "            row.append(col)\n",
    "        image.append(row)\n",
    "    \n",
    "    plt.imshow(image)\n",
    "    plt.show()\n",
    "    "
   ]
  },
  {
   "cell_type": "markdown",
   "metadata": {},
   "source": [
    "Now that we have all the basic stuff done, we already have a little \"mini ray-tracer\"!\n",
    "Whe should test it :)"
   ]
  },
  {
   "cell_type": "code",
   "execution_count": 8,
   "metadata": {
    "pycharm": {
     "is_executing": false,
     "name": "#%%\n"
    }
   },
   "outputs": [
    {
     "data": {
      "image/png": "[encoded data removed]",
      "text/plain": [
       "<Figure size 432x288 with 1 Axes>"
      ]
     },
     "metadata": {
      "needs_background": "light"
     },
     "output_type": "display_data"
    }
   ],
   "source": [
    "triangles = [Triangle(Vec3(-1,-1,3),Vec3(1,-1,3),Vec3(0,1,3))]\n",
    "camera(Vec3(0),100,100,60,triangles)"
   ]
  },
  {
   "cell_type": "markdown",
   "metadata": {},
   "source": [
    "Congratulations! \n",
    "We have our first triangle!\n",
    "\n",
    "To conclude this part 2, we will make the ray-tracing function a little bit more fun as a bonus.\n",
    "The farther a triangle is, the darker we will shade it.\n",
    "\n",
    "For this, it is important that we look at the first triangle that a ray hits."
   ]
  },
  {
   "cell_type": "code",
   "execution_count": 9,
   "metadata": {
    "pycharm": {
     "is_executing": false,
     "name": "#%%\n"
    }
   },
   "outputs": [],
   "source": [
    "def trace_ray(ray, triangles):\n",
    "    '''\n",
    "    Returns the color of the ray.\n",
    "    Color changes depending on the distance to the hit\n",
    "    :param ray: Ray that has been shot into the world\n",
    "    :param triangles: list of triangles in the world\n",
    "    :return: color\n",
    "    '''\n",
    "    \n",
    "    has_hit = False\n",
    "    closest_hit = inf\n",
    "    \n",
    "    # Loop over all triangles\n",
    "    for tri in triangles:\n",
    "        # And if there is a hit\n",
    "        t = ray.triangle_intersection_test(tri)\n",
    "        if t:\n",
    "            # Take note of the closest one\n",
    "            has_hit = True\n",
    "            closest_hit = min(closest_hit,t)\n",
    "    \n",
    "    # If there is a hit, return the color based on the distance\n",
    "    if has_hit:\n",
    "        return Vec3(1.0)/closest_hit\n",
    "    # Else, return black\n",
    "    return Vec3(0.0)"
   ]
  },
  {
   "cell_type": "markdown",
   "metadata": {},
   "source": [
    "To test this we will use a world with 3 triangles"
   ]
  },
  {
   "cell_type": "code",
   "execution_count": 10,
   "metadata": {
    "pycharm": {
     "is_executing": false,
     "name": "#%%\n"
    }
   },
   "outputs": [
    {
     "data": {
      "image/png": "[encoded data removed]",
      "text/plain": [
       "<Figure size 432x288 with 1 Axes>"
      ]
     },
     "metadata": {
      "needs_background": "light"
     },
     "output_type": "display_data"
    }
   ],
   "source": [
    "\n",
    "triangles = [Triangle(Vec3(-1,-1,3),Vec3(0,1,3),Vec3(1,-1,3)),\n",
    "             Triangle(Vec3(0.5,0.5,1),Vec3(0.1,0,1),Vec3(0.1,0.5,1)),\n",
    "             Triangle(Vec3(-2,1,5),Vec3(4,1,5),Vec3(1,0-1,5))]\n",
    "camera(Vec3(0),100,100,60,triangles)"
   ]
  },
  {
   "cell_type": "markdown",
   "metadata": {},
   "source": [
    "Now that we have a basic ray-tracer, we are ready to continue our journey to more advanced topics!"
   ]
  },
  {
   "cell_type": "markdown",
   "metadata": {},
   "source": [
    "## Part 3: Double rainbow\n",
    "Black and white triangles are admittedly pretty sweet, but imagine blue, green or even yellow triangles!\n",
    "For this, we need two new features,\n",
    "\n",
    "- material properties for triangles\n",
    "- light sources\n",
    "\n",
    "### Material properties\n",
    "The material properties will be:\n",
    "\n",
    "- diffuse reflectivity (Kd)\n",
    "- specular reflectivity (Ks)\n",
    "- shininess (Ns)\n",
    "\n",
    "The diffuse reflectivity is the amount of light that falls on the object that will be bounced back from its surface into all directions.\n",
    "If you were to shine a laser pointer at an object with high diffuse reflectivity, you would see a bright spot on the surface of that object on the spot where the laser hits, no matter from which side you are looking.\n",
    "Diffuse reflections happen mostly on rough surfaces, for example with paper.\n",
    "\n",
    "Specular reflections are mirror-like reflections where the light that falls on the object gets reflected with the same angle from the object.\n",
    "I do not recommend that you try the experiment with the laser on a specular surface.\n",
    "If the surface is purely specular (not diffuse), you wouldn't even see that there is a laser shining on the object, unless you move your head in just the \"right\" spot.\n",
    "When your eye is directly in the mirror direction of the incoming laser beam it's time to go to the eye doctor, since it will look like you are directly looking into the laser beam.\n",
    "This happens with smooth surfaces, for example, a highly polished piece of metal\n",
    "\n",
    "The shininess property is a measure of how smooth the surface is.\n",
    "Most materials are not perfect mirrors.\n",
    "They might be shiny, but the specular reflection has a bit of spread.\n",
    "Higher shininess means that the surface is more mirror-like, and thus the spread of the specular reflection is lower.\n",
    "\n",
    "### Light sources\n",
    "\n",
    "The material properties all mention \"incoming light\". \n",
    "The light has to come from a source.\n",
    "For this, we need a \"PointLight\" class.\n",
    "PointLights have only two properties,\n",
    "- how much light they emit (including the color)\n",
    "- the position of the light\n",
    "\n",
    "### Implementation\n",
    "\n",
    "Let's start with the light sources!\n",
    "We will also add a \"get_pos\" function to get the position of the light.\n",
    "This might seem like an un-pythonic thing to do, but it will be useful later on!"
   ]
  },
  {
   "cell_type": "code",
   "execution_count": 11,
   "metadata": {
    "pycharm": {
     "name": "#%%\n"
    }
   },
   "outputs": [],
   "source": [
    "class PointLight:\n",
    "    def __init__(self, pos, color):\n",
    "        '''\n",
    "        Point light to make your world a little bit happier.\n",
    "        :param pos: position of the light\n",
    "        :param color: the color of the light\n",
    "        '''\n",
    "        self.pos = pos\n",
    "        self.color = color\n",
    "    \n",
    "    def get_pos(self):\n",
    "        '''\n",
    "        Gets the position of the light source.\n",
    "        :return: Light source position\n",
    "        '''\n",
    "        return self.pos\n"
   ]
  },
  {
   "cell_type": "markdown",
   "metadata": {},
   "source": [
    "Now we will add material properties to triangles.\n",
    "It will be useful to know the surface normals of all triangles when we calculate the shadings.\n",
    "Therefore we will calculate the normals during the construction of triangles. \n"
   ]
  },
  {
   "cell_type": "code",
   "execution_count": 12,
   "metadata": {
    "pycharm": {
     "name": "#%%\n"
    }
   },
   "outputs": [],
   "source": [
    "class Triangle:\n",
    "    def __init__(self, a, b, c, Kd, Ks, Ns):\n",
    "        '''\n",
    "        Basic triangle class.\n",
    "        :param a: First corner\n",
    "        :param b: Second corner\n",
    "        :param c: Third corner\n",
    "        :param Kd: Diffuse reflectivity\n",
    "        :param Ks: Specular reflectivity\n",
    "        :param Ns: Shininess\n",
    "        '''\n",
    "        self.a = a\n",
    "        self.b = b\n",
    "        self.c = c\n",
    "        self.Kd = Kd\n",
    "        self.Ks = Ks\n",
    "        self.Ns = Ns\n",
    "        \n",
    "        self.normal = (b-a).cross_product(c-a).unit()"
   ]
  },
  {
   "cell_type": "markdown",
   "metadata": {},
   "source": [
    "Let's start with a function that calculates the amount of diffusely reflected light before we do the specular light.\n",
    "For diffuse light, it is not important where the camera is, because the light is evenly distributed all directions.\n"
   ]
  },
  {
   "cell_type": "code",
   "execution_count": 13,
   "metadata": {
    "pycharm": {
     "name": "#%%\n"
    }
   },
   "outputs": [],
   "source": [
    "def diffuse(hit_object, posHit, lightPos, normal):\n",
    "    '''\n",
    "    Calculate the fraction of diffusely reflected light.\n",
    "    :param triangle: The triangle that has been hit\n",
    "    :param posHit: The position where it was hit\n",
    "    :param lightPos: The position of the light source\n",
    "    :param normal: The surface normal direction at the point that was hit\n",
    "    :return: The fraction of incoming light that is diffusely reflected\n",
    "    '''\n",
    "    lightDirection = (lightPos - posHit).unit()\n",
    "    return max(lightDirection.dot(normal), 0) * hit_object.Kd\n"
   ]
  },
  {
   "cell_type": "markdown",
   "metadata": {},
   "source": [
    "In contrast, for specular reflections, the location of the camera is important.\n"
   ]
  },
  {
   "cell_type": "code",
   "execution_count": 14,
   "metadata": {
    "pycharm": {
     "name": "#%%\n"
    }
   },
   "outputs": [],
   "source": [
    "def specular(hit_object, posHit, lightPos, cameraPos, normal):\n",
    "    '''\n",
    "    Calculate the fraction of specularly reflected light.\n",
    "    :param triangle: The triangle that has been hit\n",
    "    :param posHit: The position where it was hit\n",
    "    :param lightPos: The position of the light source\n",
    "    :param cameraPos: The position of the camera\n",
    "    :param normal: The surface normal direction at the point that was hit\n",
    "    :return: The fraction of incoming light that is specularly reflected\n",
    "    '''\n",
    "    lightDirection = (lightPos - posHit).unit()\n",
    "    reflec = (2 * (normal.dot(lightDirection)) * normal - lightDirection)\n",
    "    spec = max((cameraPos - posHit).unit().dot(reflec), 0)\n",
    "    return spec ** hit_object.Ns * hit_object.Ks"
   ]
  },
  {
   "cell_type": "markdown",
   "metadata": {},
   "source": [
    "There are only two more things that we need to do in order to render the most beautifully colored triangles the world has ever seen.\n",
    "- update the trace_ray function to use our new shading functions.\n",
    "- update the camera to use our new trace_ray function"
   ]
  },
  {
   "cell_type": "code",
   "execution_count": 15,
   "metadata": {
    "pycharm": {
     "name": "#%%\n"
    }
   },
   "outputs": [],
   "source": [
    "def trace_ray(ray, triangles, lights):\n",
    "    '''\n",
    "    Returns the color of the ray.\n",
    "    Color changes depending on the distance to the hit\n",
    "    :param ray: Ray that has been shot into the world\n",
    "    :param triangles: list of triangles in the world\n",
    "    :param lights: list of lights in the world\n",
    "    :return: color\n",
    "    '''\n",
    "    \n",
    "    has_hit = False\n",
    "    closest_hit = inf\n",
    "    \n",
    "    # We now also want a variable to safe the triangle that we hit\n",
    "    closest_tri = None\n",
    "    \n",
    "    # Loop over all triangles\n",
    "    for tri in triangles:\n",
    "        # And if there is a hit\n",
    "        t = ray.triangle_intersection_test(tri)\n",
    "        if t:\n",
    "            # Take note of the closest one\n",
    "            has_hit = True\n",
    "            if t<closest_hit:\n",
    "                closest_hit = t\n",
    "                closest_tri = tri\n",
    "    \n",
    "    # If there is a hit, return the color based on its material properties and light sources\n",
    "    if has_hit:\n",
    "        # Calculate the hit position\n",
    "        hit_pos = ray.origin+ray.direction*(closest_hit-EPSILON)\n",
    "        \n",
    "        # For all lights, calculate the diffuse and specular amounts of light\n",
    "        col = Vec3(0.0)\n",
    "        for light in lights:\n",
    "            col += diffuse(closest_tri, hit_pos, light.get_pos(), closest_tri.normal) * light.color\n",
    "            col += specular(closest_tri, hit_pos, light.get_pos(), ray.origin, closest_tri.normal) * light.color\n",
    "        \n",
    "        return col\n",
    "    # Else, return black\n",
    "    return Vec3(0.0)"
   ]
  },
  {
   "cell_type": "markdown",
   "metadata": {
    "pycharm": {
     "name": "#%% md\n"
    }
   },
   "source": [
    "Now that we are editing the camera function anyway, we might as well add another function!\n",
    "When working with lights objects may appear so bright, that there is no way for your screen to display it.\n",
    "This can result in weird looking images, and the triangles don't deserve that.\n",
    "Especially not the super bright ones!\n",
    "To fix this problem, we will clip all colors-brightness-values between 0 and 1.\n",
    "They might still look a bit over-exposed at times (although I will try my best not to let that happen for most example renders in this tutorial),\n",
    "but at least the colors won't be completely wrong."
   ]
  },
  {
   "cell_type": "code",
   "execution_count": 16,
   "metadata": {
    "pycharm": {
     "name": "#%%\n"
    }
   },
   "outputs": [],
   "source": [
    "import warnings\n",
    "\n",
    "def camera(camera_pos, width, height, fov, triangles, lights):\n",
    "    '''\n",
    "    Renders a image of width*height pixels, of the world of triangles.\n",
    "    As seen from the camera position\n",
    "    The field of view is how \"wide\" the lens is.\n",
    "    :param camera_pos: camera position\n",
    "    :param width: horizontal pixels\n",
    "    :param height: vertical pixels\n",
    "    :param fov: field of view\n",
    "    :param triangles: triangles in the world\n",
    "    :param lights: list of lights in the world\n",
    "    '''\n",
    "    \n",
    "    # Keep track if there has been a value that had to be clipped\n",
    "    # Only the first time this happens we want to give a warning\n",
    "    has_warned_clip = False\n",
    "    \n",
    "    image = []\n",
    "    \n",
    "    angle = tan(pi * 0.5 * fov / 180)\n",
    "    aspect_ratio = width / height\n",
    "    inv_width = 1/width\n",
    "    inv_height = 1/height\n",
    "    \n",
    "    # For all pixels of the image\n",
    "    for y in range(height):\n",
    "        row = []\n",
    "        for x in range(width):\n",
    "            # Calculate the direction of the ray for this pixel\n",
    "            xdir = (2 * x * inv_width - 1) * angle * aspect_ratio\n",
    "            ydir = (1 - 2 * y * inv_height) * angle\n",
    "            \n",
    "            raydir = Vec3(xdir, ydir, 1)\n",
    "            raydir.normalize()\n",
    "            \n",
    "            # Create the ray\n",
    "            ray = Ray(camera_pos, raydir)\n",
    "            \n",
    "            # Trace the ray, and convert color from Vec3 to [r,g,b]\n",
    "            col = trace_ray(ray, triangles, lights).toList()\n",
    "            clipped_col = clip(col,0.0,1.0)\n",
    "            if not has_warned_clip:\n",
    "                if col != clipped_col:\n",
    "                    warnings.warn(\"Image is clipping! Lights might be too bright..\")\n",
    "                    has_warned_clip = True\n",
    "            row.append(clipped_col)\n",
    "        image.append(row)\n",
    "    \n",
    "    plt.imshow(image)\n",
    "    plt.show()"
   ]
  },
  {
   "cell_type": "markdown",
   "metadata": {},
   "source": [
    "This should be all that we need!\n",
    "It is again time to render a little scene :D"
   ]
  },
  {
   "cell_type": "code",
   "execution_count": 17,
   "metadata": {
    "pycharm": {
     "name": "#%%\n"
    }
   },
   "outputs": [
    {
     "data": {
      "image/png": "[encoded data removed]",
      "text/plain": [
       "<Figure size 432x288 with 1 Axes>"
      ]
     },
     "metadata": {
      "needs_background": "light"
     },
     "output_type": "display_data"
    }
   ],
   "source": [
    "triangle_1 = Triangle(Vec3(-1,-1,3),\n",
    "                      Vec3(0,1,3),\n",
    "                      Vec3(1,-1,3),\n",
    "                      Kd=Vec3(1.0,0.5,0.0),\n",
    "                      Ks=Vec3(0.1,0.1,0.2),\n",
    "                      Ns=1)\n",
    "triangle_2 = Triangle(Vec3(0.5,0.5,1),\n",
    "                      Vec3(0.1,0,1),\n",
    "                      Vec3(0.1,0.5,1),\n",
    "                      Kd=Vec3(0.2,0.3,0.2),\n",
    "                      Ks=Vec3(0.6,0.8,0.4),\n",
    "                      Ns=150)\n",
    "triangle_3 = Triangle(Vec3(-2,1,5),\n",
    "                      Vec3(4,1,5),\n",
    "                      Vec3(1,0-1,5),\n",
    "                      Kd=Vec3(0.1,0.2,0.3),\n",
    "                      Ks=Vec3(0.8,0.4,0.6),\n",
    "                      Ns=20)\n",
    "\n",
    "light_1 = PointLight(pos=Vec3(1,1,-1),color=Vec3(0.7))\n",
    "light_2 = PointLight(pos=Vec3(-3,0,-1),color=Vec3(0.2,0.2,0.2))\n",
    "\n",
    "triangles = [triangle_1, triangle_2, triangle_3]\n",
    "lights = [light_1, light_2]\n",
    "\n",
    "camera(Vec3(0),100,100,60,triangles,lights)"
   ]
  },
  {
   "cell_type": "markdown",
   "metadata": {},
   "source": [
    "## Part 4: Small triangles can cast big shadows\n",
    "In this part, we will add shadows to our ray-tracer!\n",
    "Shadows come in two kinds.\n",
    "- Hard shadows\n",
    "- Soft shadows\n",
    "\n",
    "![Hard_vs_soft_shadows](https://www.researchgate.net/profile/Joe_Kniss/publication/242383784/figure/fig3/AS:298469525868563@1448172088633/Left-Hard-shadows-from-a-point-light-source-Right-Soft-shadows-from-an-area-light.png) \n",
    "Hard shadows are what you would get with an infinitely small point light.\n",
    "In the real world, light sources are not infinitely small.\n",
    "With bigger light sources, there is not only a \"shadow\" area and a \"light\" area, but there is also a penumbra.\n",
    "The penumbra is a transition area, that where only part of the light is occluded.\n",
    "\n",
    "Its easier to start with hard-shadows.\n",
    "Every time, before we use the diffuse and specular functions, we need to find out if there is an unobstructed path between the object and the light source.\n",
    " "
   ]
  },
  {
   "cell_type": "code",
   "execution_count": 18,
   "metadata": {
    "pycharm": {
     "name": "#%%\n"
    }
   },
   "outputs": [],
   "source": [
    "def check_if_visible(pos, light_pos, triangle, triangles):\n",
    "    '''\n",
    "    Check if the point on the triangle is visible from the light source.\n",
    "    :param pos: Hit point\n",
    "    :param light_pos: Light source position\n",
    "    :param triangle: The triangle that is looked at\n",
    "    :param triangles: All triangles in the world\n",
    "    :return: Is the triangle visible\n",
    "    '''\n",
    "    direction = (pos - light_pos)\n",
    "    direction.normalize()\n",
    "    ray = Ray(light_pos, direction)\n",
    "    \n",
    "    has_hit = False\n",
    "    closest_hit = inf\n",
    "    closest_tri = None\n",
    "    \n",
    "    # Loop over all triangles\n",
    "    for tri in triangles:\n",
    "        # And if there is a hit\n",
    "        t = ray.triangle_intersection_test(tri)\n",
    "        if t:\n",
    "            # Take note of the closest one\n",
    "            has_hit = True\n",
    "            if t<closest_hit:\n",
    "                closest_hit = t\n",
    "                closest_tri = tri\n",
    "    \n",
    "    if has_hit:\n",
    "        return closest_tri == triangle\n",
    "    return False"
   ]
  },
  {
   "cell_type": "markdown",
   "metadata": {},
   "source": [
    "We can now call this function in the trace ray function!"
   ]
  },
  {
   "cell_type": "code",
   "execution_count": 19,
   "metadata": {
    "pycharm": {
     "name": "#%%\n"
    }
   },
   "outputs": [],
   "source": [
    "def trace_ray(ray, triangles, lights):\n",
    "    '''\n",
    "    Returns the color of the ray.\n",
    "    Color changes depending on the distance to the hit\n",
    "    :param ray: Ray that has been shot into the world\n",
    "    :param triangles: list of triangles in the world\n",
    "    :param lights: list of lights in the world\n",
    "    :return: color\n",
    "    '''\n",
    "    \n",
    "    has_hit = False\n",
    "    closest_hit = inf\n",
    "    \n",
    "    # We now also want a variable to safe the triangle that we hit\n",
    "    closest_tri = None\n",
    "    \n",
    "    # Loop over all triangles\n",
    "    for tri in triangles:\n",
    "        # And if there is a hit\n",
    "        t = ray.triangle_intersection_test(tri)\n",
    "        if t:\n",
    "            # Take note of the closest one\n",
    "            has_hit = True\n",
    "            if t<closest_hit:\n",
    "                closest_hit = t\n",
    "                closest_tri = tri\n",
    "    \n",
    "    # If there is a hit, return the color based on its material properties and light sources\n",
    "    if has_hit:\n",
    "        # Calculate the hit position\n",
    "        hit_pos = ray.origin+ray.direction*(closest_hit-EPSILON)\n",
    "        \n",
    "        # For all lights, calculate the diffuse and specular amounts of light\n",
    "        col = Vec3(0.0)\n",
    "        for light in lights:\n",
    "            if check_if_visible(hit_pos,light.get_pos(),closest_tri,triangles):\n",
    "                col += diffuse(closest_tri, hit_pos, light.get_pos(), closest_tri.normal) * light.color\n",
    "                col += specular(closest_tri, hit_pos, light.get_pos(), ray.origin, closest_tri.normal) * light.color\n",
    "        \n",
    "        return col\n",
    "    # Else, return black\n",
    "    return Vec3(0.0)\n"
   ]
  },
  {
   "cell_type": "markdown",
   "metadata": {},
   "source": [
    "Now that we always check for occlusions, its time to re-render our previous scene with our newly added shadow checking!\n",
    "As long as you ran the previous render before this one, the scene (all triangles and lights) should still be saved, so we only have to call the render function now."
   ]
  },
  {
   "cell_type": "code",
   "execution_count": 20,
   "metadata": {},
   "outputs": [
    {
     "data": {
      "image/png": "[encoded data removed]",
      "text/plain": [
       "<Figure size 432x288 with 1 Axes>"
      ]
     },
     "metadata": {
      "needs_background": "light"
     },
     "output_type": "display_data"
    }
   ],
   "source": [
    "camera(Vec3(0),100,100,60,triangles,lights)"
   ]
  },
  {
   "cell_type": "markdown",
   "metadata": {},
   "source": [
    "As you can see, the shadow calculations are working!\n",
    "Now that we have finished what we set out to do in this chapter, it is ones again time for a little bonus :)\n",
    "If you take a close look at the edges of the triangles, you can see that they appear to be blocky and pixelated.\n",
    "Of course, this is not the way that we want our triangles to look like.\n",
    "\n",
    "To solve this problem, for every pixel in the image, we will not just trace one single ray, we will trace multiple rays, all in a slightly different direction. The reason for this is that pixels on an image sensor are not infinitely small, and we want to know the average of incoming light all the spots of the pixel.\n",
    "\n",
    "To generate the rays, every time we calculate the position of the pixel. But now that we know that pixels have a size larger than 0, we will randomly offset that location, in order to sample from all locations on the pixel."
   ]
  },
  {
   "cell_type": "code",
   "execution_count": 21,
   "metadata": {},
   "outputs": [],
   "source": [
    "SAMPLES_PER_PIXEL = 10\n",
    "\n",
    "def camera(camera_pos, width, height, fov, triangles, lights):\n",
    "    '''\n",
    "    Renders an image of width*height pixels, of the world of triangles.\n",
    "    As seen from the camera position\n",
    "    The field of view is how \"wide\" the lens is.\n",
    "    :param camera_pos: camera position\n",
    "    :param width: horizontal pixels\n",
    "    :param height: vertical pixels\n",
    "    :param fov: field of view\n",
    "    :param triangles: triangles in the world\n",
    "    :param lights: list of lights in the world\n",
    "    '''\n",
    "    \n",
    "    # Keep track if there has been a value that had to be clipped\n",
    "    # Only the first time this happens we want to give a warning\n",
    "    has_warned_clip = False\n",
    "    \n",
    "    image = []\n",
    "    \n",
    "    angle = tan(pi * 0.5 * fov / 180)\n",
    "    aspect_ratio = width / height\n",
    "    inv_width = 1/width\n",
    "    inv_height = 1/height\n",
    "    \n",
    "    # For all pixels of the image\n",
    "    for y in range(height):\n",
    "        row = []\n",
    "        for x in range(width):\n",
    "            col = Vec3(0)\n",
    "\n",
    "            for _ in range(SAMPLES_PER_PIXEL):\n",
    "                # Calculate the direction of the ray for this pixel\n",
    "                xdir = (2 * (x+random()) * inv_width - 1) * angle * aspect_ratio\n",
    "                ydir = (1 - 2 * (y+random()) * inv_height) * angle\n",
    "\n",
    "                raydir = Vec3(xdir, ydir, 1)\n",
    "                raydir.normalize()\n",
    "\n",
    "                # Create the ray\n",
    "                ray = Ray(camera_pos, raydir)\n",
    "\n",
    "                # Trace the ray\n",
    "                col += trace_ray(ray, triangles, lights)\n",
    "            \n",
    "            # Average the samples\n",
    "            col/=SAMPLES_PER_PIXEL\n",
    "            col = col.toList()\n",
    "            clipped_col = clip(col,0.0,1.0)\n",
    "            if not has_warned_clip:\n",
    "                if col != clipped_col:\n",
    "                    warnings.warn(\"Image is clipping! Lights might be to bright..\")\n",
    "                    has_warned_clip = True\n",
    "            row.append(clipped_col)\n",
    "        image.append(row)\n",
    "    \n",
    "    plt.imshow(image)\n",
    "    plt.show()"
   ]
  },
  {
   "cell_type": "code",
   "execution_count": 22,
   "metadata": {},
   "outputs": [
    {
     "data": {
      "image/png": "[encoded data removed]",
      "text/plain": [
       "<Figure size 432x288 with 1 Axes>"
      ]
     },
     "metadata": {
      "needs_background": "light"
     },
     "output_type": "display_data"
    }
   ],
   "source": [
    "SAMPLES_PER_PIXEL = 20\n",
    "camera(Vec3(0),100,100,60,triangles,lights)"
   ]
  },
  {
   "cell_type": "markdown",
   "metadata": {},
   "source": [
    "By adjusting the number of samples per pixel, you can get an increasingly smooth edge on your triangle. Be careful though.\n",
    "If you want to many samples per pixel, it might be the perfect moment to make yourself some tea, because the more samples per pixel the longer the render will take."
   ]
  },
  {
   "cell_type": "markdown",
   "metadata": {},
   "source": [
    "As you can see, the edges all look a lot cleaner now!\n",
    "Now that we are able to make hard shadows, it is time to progress to soft shadows!"
   ]
  },
  {
   "cell_type": "markdown",
   "metadata": {},
   "source": [
    "## Part 5: A soft shadow is a happy shadow\n",
    "\n",
    "Making shadows soft is relatively simple.\n",
    "As previously discussed, real-world light sources are not infinitely small.\n",
    "To model this, we will simply move our light source a little bit every time it gets sampled.\n",
    "To do this we will first add a size and offset to the PointLight class.\n",
    "We then add the move_light function that generates a random offset.\n",
    "Finaly, we update the get_pos function to return the position with the added random offset."
   ]
  },
  {
   "cell_type": "code",
   "execution_count": 23,
   "metadata": {},
   "outputs": [],
   "source": [
    "class PointLight:\n",
    "    def __init__(self, pos, color, size):\n",
    "        '''\n",
    "        Point light to make your world a little bit happier.\n",
    "        :param pos: position of the light\n",
    "        :param color: the color of the light\n",
    "        :param size: the size of the light\n",
    "        '''\n",
    "        self.pos = pos\n",
    "        self.offset = Vec3()\n",
    "        self.color = color\n",
    "        self.size = size\n",
    "        \n",
    "    def move_light(self):\n",
    "        '''\n",
    "        Generate a random offset for this light.\n",
    "        The larger the light size, the larger the offsets\n",
    "        '''\n",
    "        self.offset = Vec3((random() - 0.5) * self.size,\n",
    "                            (random() - 0.5) * self.size,\n",
    "                            (random() - 0.5) * self.size)\n",
    "    \n",
    "    def get_pos(self):\n",
    "        '''\n",
    "        Gets the position of the light source.\n",
    "        The possition is translated by the offset vector\n",
    "        :return: Light source position\n",
    "        '''\n",
    "        return self.pos + self.offset"
   ]
  },
  {
   "cell_type": "markdown",
   "metadata": {},
   "source": [
    "Now we need to update the light position in the ray-trace function.\n",
    "We do that every time that a light is sampled from."
   ]
  },
  {
   "cell_type": "code",
   "execution_count": 24,
   "metadata": {},
   "outputs": [],
   "source": [
    "def trace_ray(ray, triangles, lights):\n",
    "    '''\n",
    "    Returns the color of the ray.\n",
    "    Color changes depending on the distance to the hit\n",
    "    :param ray: Ray that has been shot into the world\n",
    "    :param triangles: list of triangles in the world\n",
    "    :param lights: list of lights in the world\n",
    "    :return: color\n",
    "    '''\n",
    "    \n",
    "    has_hit = False\n",
    "    closest_hit = inf\n",
    "    closest_tri = None\n",
    "    \n",
    "    # Loop over all triangles\n",
    "    for tri in triangles:\n",
    "        # And if there is a hit\n",
    "        t = ray.triangle_intersection_test(tri)\n",
    "        if t:\n",
    "            # Take note of the closest one\n",
    "            has_hit = True\n",
    "            if t<closest_hit:\n",
    "                closest_hit = t\n",
    "                closest_tri = tri\n",
    "    \n",
    "    # If there is a hit, return the color based on its material properties and light sources\n",
    "    if has_hit:\n",
    "        # Calculate the hit position\n",
    "        hit_pos = ray.origin+ray.direction*(closest_hit-EPSILON)\n",
    "        \n",
    "        # For all lights, calculate the diffuse and specular amounts of light\n",
    "        col = Vec3(0.0)\n",
    "        for light in lights:\n",
    "            # Randomly move the light a little bit\n",
    "            light.move_light()\n",
    "            if check_if_visible(hit_pos,light.get_pos(),closest_tri,triangles):\n",
    "                col += diffuse(closest_tri, hit_pos, light.get_pos(), closest_tri.normal) * light.color\n",
    "                col += specular(closest_tri, hit_pos, light.get_pos(), ray.origin, closest_tri.normal) * light.color\n",
    "        \n",
    "        return col\n",
    "    # Else, return black\n",
    "    return Vec3(0.0)"
   ]
  },
  {
   "cell_type": "markdown",
   "metadata": {},
   "source": [
    "This should be all!\n",
    "Now it is time for another test :)\n",
    "The only thing that we need to do is updating the lights in our previous scene with a size."
   ]
  },
  {
   "cell_type": "code",
   "execution_count": 25,
   "metadata": {},
   "outputs": [
    {
     "data": {
      "image/png": "[encoded data removed]",
      "text/plain": [
       "<Figure size 432x288 with 1 Axes>"
      ]
     },
     "metadata": {
      "needs_background": "light"
     },
     "output_type": "display_data"
    }
   ],
   "source": [
    "light_1 = PointLight(pos=Vec3(1,1,-1),color=Vec3(0.7), size=0.2)\n",
    "light_2 = PointLight(pos=Vec3(-3,0,-1),color=Vec3(0.2,0.2,0.2), size=0.3)\n",
    "\n",
    "lights = [light_1, light_2]\n",
    "\n",
    "SAMPLES_PER_PIXEL = 40\n",
    "camera(Vec3(0),100,100,60,triangles,lights)"
   ]
  },
  {
   "cell_type": "markdown",
   "metadata": {},
   "source": [
    "As you can see there is a nice shadow now!\n",
    "But you might notice a little problem.. Uhm, I mean, Challenge!\n",
    "Rendering the image takes quite a while, and the image is a bit noisy.\n",
    "In the next chapter we will explore two techniques so fix this :)"
   ]
  },
  {
   "cell_type": "markdown",
   "metadata": {},
   "source": [
    "## Part 6: Thinking outside of the box\n",
    "We will start by making a new scene to render.\n",
    "This scene will have a very poorly drawn car on it.\n",
    "\n",
    "Then we will add one of the most basic acceleration structures, a boundingbox.\n",
    "This box surrounds the whole scene.\n",
    "If a ray does not hit the box, it is immediately clear that it will not hit anything at all.\n",
    "This can help speed up the rendering process!\n",
    "\n",
    "Let's start with the new scene!"
   ]
  },
  {
   "cell_type": "code",
   "execution_count": 26,
   "metadata": {},
   "outputs": [
    {
     "data": {
      "image/png": "[encoded data removed]",
      "text/plain": [
       "<Figure size 432x288 with 1 Axes>"
      ]
     },
     "metadata": {
      "needs_background": "light"
     },
     "output_type": "display_data"
    }
   ],
   "source": [
    "ground = [Triangle(Vec3(-0.9,-1,2),Vec3(-0.9,-1,4),Vec3(0.9,-1,2),Kd=Vec3(1.0,0.7,0.1),Ks=Vec3(0.1,0.1,0.2),Ns=1),\n",
    "          Triangle(Vec3(0.9,-1,2),Vec3(-0.9,-1,4),Vec3(0.9,-1,4),Kd=Vec3(1.0,0.7,0.1),Ks=Vec3(0.1,0.1,0.2),Ns=1)]\n",
    "\n",
    "body = [Triangle(Vec3(-0.6,-0.9,3),Vec3(-0.6,-0.3,3),Vec3(0.3,-0.9,3),Kd=Vec3(0.6,0.2,0.2),Ks=Vec3(0.4,0.2,0.2),Ns=1),\n",
    "        Triangle(Vec3(0.3,-0.9,3),Vec3(-0.6,-0.3,3),Vec3(0.3,-0.3,3),Kd=Vec3(0.6,0.2,0.2),Ks=Vec3(0.4,0.2,0.2),Ns=1),\n",
    "        Triangle(Vec3(0.3,-0.9,3),Vec3(0.3,-0.6,3),Vec3(0.6,-0.9,3),Kd=Vec3(0.6,0.2,0.2),Ks=Vec3(0.4,0.2,0.2),Ns=1),\n",
    "        Triangle(Vec3(0.6,-0.9,3),Vec3(0.3,-0.6,3),Vec3(0.6,-0.6,3),Kd=Vec3(0.6,0.2,0.2),Ks=Vec3(0.4,0.2,0.2),Ns=1)]\n",
    "\n",
    "wheels = [Triangle(Vec3(-0.4,-1,3),Vec3(-0.4,-0.9,3),Vec3(-0.3,-1,3),Kd=Vec3(0.6,0.7,0.8),Ks=Vec3(0.2,0.2,0.2),Ns=1),\n",
    "          Triangle(Vec3(-0.3,-1,3),Vec3(-0.4,-0.9,3),Vec3(-0.3,-0.9,3),Kd=Vec3(0.6,0.7,0.8),Ks=Vec3(0.2,0.2,0.2),Ns=1),\n",
    "          Triangle(Vec3(0.3,-1,3),Vec3(0.3,-0.9,3),Vec3(0.4,-1,3),Kd=Vec3(0.6,0.7,0.8),Ks=Vec3(0.2,0.2,0.2),Ns=1),\n",
    "          Triangle(Vec3(0.4,-1,3),Vec3(0.3,-0.9,3),Vec3(0.4,-0.9,3),Kd=Vec3(0.6,0.7,0.8),Ks=Vec3(0.2,0.2,0.2),Ns=1)]\n",
    "\n",
    "triangles = ground + body + wheels\n",
    "lights = [PointLight(pos=Vec3(-0.3,-0.4,1),color=Vec3(0.8),size=0.1)]\n",
    "\n",
    "SAMPLES_PER_PIXEL = 4\n",
    "camera(Vec3(0),200,200,60,triangles,lights)"
   ]
  },
  {
   "cell_type": "markdown",
   "metadata": {},
   "source": [
    "Alright, alright, the car might not look al that fast, but I'm sure it gets you from a to b anytime you need it.\n",
    "\n",
    "To speed up the rendering process, we will create a bounding box.\n",
    "This box will be always aligned with the coordinate system.\n",
    "This is called an axis-aligned bounding box, or AABB for short.\n",
    "\n",
    "Our AABB only needs to keep track of two corners.\n",
    "The corner with the smallest x,y and z values, and the corner with the largest x,y and z values."
   ]
  },
  {
   "cell_type": "code",
   "execution_count": 27,
   "metadata": {},
   "outputs": [],
   "source": [
    "class AABB:\n",
    "    def __init__(self, min_corner, max_corner):\n",
    "        '''\n",
    "        Axis aligned bounding box to contain all the triangles in the scene.\n",
    "        If a ray does not hit this box, it will also miss all triangles.\n",
    "        :param min_corner: vector describing the corner with the lowest x,y and z values\n",
    "        :param max_corner: vector describing the corner with the highest x,y and z values\n",
    "        '''\n",
    "        self.min_corner = min_corner\n",
    "        self.max_corner = max_corner"
   ]
  },
  {
   "cell_type": "markdown",
   "metadata": {},
   "source": [
    "No we can add a function to the ray class that checks if it intersects with an AABB"
   ]
  },
  {
   "cell_type": "code",
   "execution_count": 28,
   "metadata": {},
   "outputs": [],
   "source": [
    "def ray_AABB_intersect(self, other):\n",
    "    # Find out what the first and last time is where the ray has the correct x coordinate\n",
    "    tmin = (other.min_corner.x - self.origin.x) / self.direction.x\n",
    "    tmax = (other.max_corner.x - self.origin.x) / self.direction.x\n",
    "\n",
    "    if tmin > tmax:\n",
    "        tmin, tmax = tmax, tmin\n",
    "    \n",
    "    # Also Find out what the first and last time is where the ray has the correct y coordinate\n",
    "    tymin = (other.min_corner.y - self.origin.y) / self.direction.y\n",
    "    tymax = (other.max_corner.y - self.origin.y) / self.direction.y\n",
    "\n",
    "    if tymin > tymax:\n",
    "        tymin, tymax = tymax, tymin\n",
    "        \n",
    "    # If the first time the x coordinate is correct is later than the last time the y coordinate is correct,\n",
    "    # there is no hit.\n",
    "    # There is also no hit first time the y coordinate is correct happens after the last time the x is correct\n",
    "    if (tmin > tymax) or (tymin > tmax):\n",
    "        return False\n",
    "    \n",
    "    # Now we want to know the window of time where both the x and y are correct\n",
    "    if tymin > tmin:\n",
    "        tmin = tymin\n",
    "\n",
    "    if tymax < tmax:\n",
    "        tmax = tymax\n",
    "\n",
    "    # Calculate the first and last time the ray has the correct z coordinate\n",
    "    tzmin = (other.min_corner.z - self.origin.z) / self.direction.z\n",
    "    tzmax = (other.max_corner.z - self.origin.z) / self.direction.z\n",
    "\n",
    "    if tzmin > tzmax:\n",
    "        tzmin, tzmax = tzmax, tzmin\n",
    "    \n",
    "    # If the first time the z coordinate is correct happens after the window where x and y are correct,\n",
    "    # there is no hit.\n",
    "    # There is also no hit if the last time the z coordinate is correct happens before the x and y are correct\n",
    "    if (tmin > tzmax) or (tzmin > tmax):\n",
    "        return False\n",
    "    \n",
    "    # If there is a point on the ray where all the coordinates are inside the AABB, there is a hit!\n",
    "    return True\n",
    "\n",
    "# Add the function to the ray class\n",
    "Ray.ray_AABB_intersect = ray_AABB_intersect"
   ]
  },
  {
   "cell_type": "markdown",
   "metadata": {},
   "source": [
    "Now we need to find the smallest AABB that fully contains all triangles.\n",
    "This is done by looping over all triangles.\n",
    "The minimal and maximal values of the coordinates of all the corners of triangles are recorded.\n",
    "Those coordinates are used to build the AABB"
   ]
  },
  {
   "cell_type": "code",
   "execution_count": 29,
   "metadata": {},
   "outputs": [],
   "source": [
    "def create_aabb(triangles):\n",
    "    if triangles:\n",
    "        # Find the smallest x, y and z coordinate values\n",
    "        x_min = min(min(triangle.a.x,triangle.b.x,triangle.c.x) for triangle in triangles)\n",
    "        y_min = min(min(triangle.a.y,triangle.b.y,triangle.c.y) for triangle in triangles)\n",
    "        z_min = min(min(triangle.a.z,triangle.b.z,triangle.c.z) for triangle in triangles)\n",
    "\n",
    "        # Find the largest x, y and z coordinate values\n",
    "        x_max = max(max(triangle.a.x,triangle.b.x,triangle.c.x) for triangle in triangles)\n",
    "        y_max = max(max(triangle.a.y,triangle.b.y,triangle.c.y) for triangle in triangles)\n",
    "        z_max = max(max(triangle.a.z,triangle.b.z,triangle.c.z) for triangle in triangles)\n",
    "\n",
    "        min_corner = Vec3(x_min, y_min, z_min)\n",
    "        max_corner = Vec3(x_max, y_max, z_max)\n",
    "    \n",
    "        return AABB(min_corner, max_corner)\n",
    "    else:\n",
    "        return AABB(Vec3(),Vec3())"
   ]
  },
  {
   "cell_type": "markdown",
   "metadata": {},
   "source": [
    "Let's update the camera function to calculate the AABB and to give it to the ray_trace function"
   ]
  },
  {
   "cell_type": "code",
   "execution_count": 30,
   "metadata": {},
   "outputs": [],
   "source": [
    "def camera(camera_pos, width, height, fov, triangles, lights):\n",
    "    '''\n",
    "    Renders an image of width*height pixels, of the world of triangles.\n",
    "    As seen from the camera position\n",
    "    The field of view is how \"wide\" the lens is.\n",
    "    :param camera_pos: camera position\n",
    "    :param width: horizontal pixels\n",
    "    :param height: vertical pixels\n",
    "    :param fov: field of view\n",
    "    :param triangles: triangles in the world\n",
    "    :param lights: list of lights in the world\n",
    "    '''\n",
    "    has_warned_clip = False\n",
    "    \n",
    "    image = []\n",
    "    \n",
    "    angle = tan(pi * 0.5 * fov / 180)\n",
    "    aspect_ratio = width / height\n",
    "    inv_width = 1/width\n",
    "    inv_height = 1/height\n",
    "    \n",
    "    # Create the AABB\n",
    "    bounding_box = create_aabb(triangles)\n",
    "\n",
    "    for y in range(height):\n",
    "        row = []\n",
    "        for x in range(width):\n",
    "            col = Vec3(0)\n",
    "\n",
    "            for _ in range(SAMPLES_PER_PIXEL):\n",
    "                xdir = (2 * (x+random()) * inv_width - 1) * angle * aspect_ratio\n",
    "                ydir = (1 - 2 * (y+random()) * inv_height) * angle\n",
    "\n",
    "                raydir = Vec3(xdir, ydir, 1)\n",
    "                raydir.normalize()\n",
    "                ray = Ray(camera_pos, raydir)\n",
    "\n",
    "                # Trace the ray with the bounding box\n",
    "                col += trace_ray(ray, triangles, lights, bounding_box)\n",
    "            \n",
    "            col/=SAMPLES_PER_PIXEL\n",
    "            col = col.toList()\n",
    "            clipped_col = clip(col,0.0,1.0)\n",
    "            if not has_warned_clip:\n",
    "                if col != clipped_col:\n",
    "                    warnings.warn(\"Image is clipping! Lights might be too bright..\")\n",
    "                    has_warned_clip = True\n",
    "            row.append(clipped_col)\n",
    "        image.append(row)\n",
    "    \n",
    "    plt.imshow(image)\n",
    "    plt.show()"
   ]
  },
  {
   "cell_type": "markdown",
   "metadata": {},
   "source": [
    "Finaly, the ray_trace function needs an update.\n",
    "Everytime we will check if the ray hits the AABB first.\n",
    "If it does not, we can return black."
   ]
  },
  {
   "cell_type": "code",
   "execution_count": 31,
   "metadata": {},
   "outputs": [],
   "source": [
    "def trace_ray(ray, triangles, lights, bounding_box):\n",
    "    '''\n",
    "    Returns the color of the ray.\n",
    "    Color changes depending on the distance to the hit\n",
    "    :param ray: Ray that has been shot into the world\n",
    "    :param triangles: list of triangles in the world\n",
    "    :param lights: list of lights in the world\n",
    "    :return: color\n",
    "    '''\n",
    "    \n",
    "    if not ray.ray_AABB_intersect(bounding_box):\n",
    "        return Vec3(0.0)\n",
    "    \n",
    "    has_hit = False\n",
    "    closest_hit = inf\n",
    "    closest_tri = None\n",
    "    \n",
    "    # Loop over all triangles\n",
    "    for tri in triangles:\n",
    "        # And if there is a hit\n",
    "        t = ray.triangle_intersection_test(tri)\n",
    "        if t:\n",
    "            # Take note of the closest one\n",
    "            has_hit = True\n",
    "            if t<closest_hit:\n",
    "                closest_hit = t\n",
    "                closest_tri = tri\n",
    "    \n",
    "    # If there is a hit, return the color based on its material properties and light sources\n",
    "    if has_hit:\n",
    "        # Calculate the hit position\n",
    "        hit_pos = ray.origin+ray.direction*(closest_hit-EPSILON)\n",
    "        \n",
    "        # For all lights, calculate the diffuse and specular amounts of light\n",
    "        col = Vec3(0.0)\n",
    "        for light in lights:\n",
    "            # Randomly move the light a little bit\n",
    "            light.move_light()\n",
    "            if check_if_visible(hit_pos,light.get_pos(),closest_tri,triangles):\n",
    "                col += diffuse(closest_tri, hit_pos, light.get_pos(), closest_tri.normal) * light.color\n",
    "                col += specular(closest_tri, hit_pos, light.get_pos(), ray.origin, closest_tri.normal) * light.color\n",
    "        \n",
    "        return col\n",
    "    # Else, return black\n",
    "    return Vec3(0.0)"
   ]
  },
  {
   "cell_type": "markdown",
   "metadata": {},
   "source": [
    "Now we can finally do another render!\n",
    "Can you see how much faster it already is? :)"
   ]
  },
  {
   "cell_type": "code",
   "execution_count": 32,
   "metadata": {},
   "outputs": [
    {
     "data": {
      "image/png": "[encoded data removed]",
      "text/plain": [
       "<Figure size 432x288 with 1 Axes>"
      ]
     },
     "metadata": {
      "needs_background": "light"
     },
     "output_type": "display_data"
    }
   ],
   "source": [
    "SAMPLES_PER_PIXEL = 4\n",
    "camera(Vec3(0),200,200,60,triangles,lights)"
   ]
  },
  {
   "cell_type": "markdown",
   "metadata": {},
   "source": [
    "The render should be about 2x as fast because all the rays in the top half of the image immediately know that they won't hit anything and no triangle intersections have to be performed for those rays.\n",
    "Speed is of course very fun.\n",
    "But now it is time to work on making the image more beautiful again!\n",
    "Don't worry though because we will revisit performance later."
   ]
  },
  {
   "cell_type": "markdown",
   "metadata": {},
   "source": [
    "## Part 7: Self-reflection is key\n",
    "Our car looks a bit lonely now, but,\n",
    "modelling another car takes quite a lot of time and effort.\n",
    "There is however a simple solution to this problem!\n",
    "If we make the floor reflective, it will look like we have two cars!\n",
    "\n",
    "In this chapter, we will implement reflections.\n",
    "When a ray hits a reflective surface, we will cast another ray.\n",
    "This reflection ray gets added to the output colour.\n",
    "\n",
    "Let's start by adding a reflexivity property to triangles"
   ]
  },
  {
   "cell_type": "code",
   "execution_count": 33,
   "metadata": {},
   "outputs": [],
   "source": [
    "class Triangle:\n",
    "    def __init__(self, a, b, c, Kd, Ks, Ns, refl):\n",
    "        '''\n",
    "        Basic triangle class.\n",
    "        :param a: First corner\n",
    "        :param b: Second corner\n",
    "        :param c: Third corner\n",
    "        :param Kd: Diffuse reflectivity\n",
    "        :param Ks: Specular reflectivity\n",
    "        :param Ns: Shininess\n",
    "        :param refl: mirror like reflectivity\n",
    "        '''\n",
    "        self.a = a\n",
    "        self.b = b\n",
    "        self.c = c\n",
    "        self.Kd = Kd\n",
    "        self.Ks = Ks\n",
    "        self.Ns = Ns\n",
    "        self.refl = refl\n",
    "        \n",
    "        self.normal = (b-a).cross_product(c-a).unit()"
   ]
  },
  {
   "cell_type": "markdown",
   "metadata": {},
   "source": [
    "Now that triangles have the reflectivity we need to update the ray_trace function to trace the reflection rays"
   ]
  },
  {
   "cell_type": "code",
   "execution_count": 34,
   "metadata": {},
   "outputs": [],
   "source": [
    "def trace_ray(ray, triangles, lights, bounding_box):\n",
    "    '''\n",
    "    Returns the color of the ray.\n",
    "    Color changes depending on the distance to the hit\n",
    "    :param ray: Ray that has been shot into the world\n",
    "    :param triangles: list of triangles in the world\n",
    "    :param lights: list of lights in the world\n",
    "    :return: color\n",
    "    '''\n",
    "    \n",
    "    if not ray.ray_AABB_intersect(bounding_box):\n",
    "        return Vec3(0.0)\n",
    "    \n",
    "    has_hit = False\n",
    "    closest_hit = inf\n",
    "    closest_tri = None\n",
    "    \n",
    "    for tri in triangles:\n",
    "        t = ray.triangle_intersection_test(tri)\n",
    "        if t:\n",
    "            has_hit = True\n",
    "            if t<closest_hit:\n",
    "                closest_hit = t\n",
    "                closest_tri = tri\n",
    "    \n",
    "    if has_hit:\n",
    "        hit_pos = ray.origin+ray.direction*(closest_hit-EPSILON)\n",
    "        \n",
    "        col = Vec3(0.0)\n",
    "        for light in lights:\n",
    "            light.move_light()\n",
    "            if check_if_visible(hit_pos,light.get_pos(),closest_tri,triangles):\n",
    "                col += diffuse(closest_tri, hit_pos, light.get_pos(), closest_tri.normal) * light.color\n",
    "                col += specular(closest_tri, hit_pos, light.get_pos(), ray.origin, closest_tri.normal) * light.color\n",
    "        \n",
    "        # If the triangle is mirror-like\n",
    "        if closest_tri.refl > 0:\n",
    "            # Calculate the direction of the reflection\n",
    "            reflec_direction = (ray.direction - 2 * (closest_tri.normal.dot(ray.direction)) * closest_tri.normal)\n",
    "            \n",
    "            # Create a new ray\n",
    "            bounce_ray = Ray(hit_pos, reflec_direction)\n",
    "            \n",
    "            # Trace the new ray\n",
    "            col += trace_ray(bounce_ray, triangles, lights, bounding_box) * closest_tri.refl\n",
    "        \n",
    "        return col\n",
    "    # Else, return black\n",
    "    return Vec3(0.0)"
   ]
  },
  {
   "cell_type": "markdown",
   "metadata": {},
   "source": [
    "Now we can re-render our scene!\n",
    "Let's just make the ground reflective for now."
   ]
  },
  {
   "cell_type": "code",
   "execution_count": 35,
   "metadata": {},
   "outputs": [
    {
     "data": {
      "image/png": "[encoded data removed]",
      "text/plain": [
       "<Figure size 432x288 with 1 Axes>"
      ]
     },
     "metadata": {
      "needs_background": "light"
     },
     "output_type": "display_data"
    }
   ],
   "source": [
    "ground = [Triangle(Vec3(-0.9,-1,2),Vec3(-0.9,-1,4),Vec3(0.9,-1,2),Kd=Vec3(1.0,0.7,0.1),Ks=Vec3(0.1,0.1,0.2),Ns=1, refl=0.2),\n",
    "          Triangle(Vec3(0.9,-1,2),Vec3(-0.9,-1,4),Vec3(0.9,-1,4),Kd=Vec3(1.0,0.7,0.1),Ks=Vec3(0.1,0.1,0.2),Ns=1, refl=0.2)]\n",
    "\n",
    "body = [Triangle(Vec3(-0.6,-0.9,3),Vec3(-0.6,-0.3,3),Vec3(0.3,-0.9,3),Kd=Vec3(0.6,0.2,0.2),Ks=Vec3(0.4,0.2,0.2),Ns=1, refl=0),\n",
    "        Triangle(Vec3(0.3,-0.9,3),Vec3(-0.6,-0.3,3),Vec3(0.3,-0.3,3),Kd=Vec3(0.6,0.2,0.2),Ks=Vec3(0.4,0.2,0.2),Ns=1, refl=0),\n",
    "        Triangle(Vec3(0.3,-0.9,3),Vec3(0.3,-0.6,3),Vec3(0.6,-0.9,3),Kd=Vec3(0.6,0.2,0.2),Ks=Vec3(0.4,0.2,0.2),Ns=1, refl=0),\n",
    "        Triangle(Vec3(0.6,-0.9,3),Vec3(0.3,-0.6,3),Vec3(0.6,-0.6,3),Kd=Vec3(0.6,0.2,0.2),Ks=Vec3(0.4,0.2,0.2),Ns=1, refl=0)]\n",
    "\n",
    "wheels = [Triangle(Vec3(-0.4,-1,3),Vec3(-0.4,-0.9,3),Vec3(-0.3,-1,3),Kd=Vec3(0.6,0.7,0.8),Ks=Vec3(0.2,0.2,0.2),Ns=1, refl=0),\n",
    "          Triangle(Vec3(-0.3,-1,3),Vec3(-0.4,-0.9,3),Vec3(-0.3,-0.9,3),Kd=Vec3(0.6,0.7,0.8),Ks=Vec3(0.2,0.2,0.2),Ns=1, refl=0),\n",
    "          Triangle(Vec3(0.3,-1,3),Vec3(0.3,-0.9,3),Vec3(0.4,-1,3),Kd=Vec3(0.6,0.7,0.8),Ks=Vec3(0.2,0.2,0.2),Ns=1, refl=0),\n",
    "          Triangle(Vec3(0.4,-1,3),Vec3(0.3,-0.9,3),Vec3(0.4,-0.9,3),Kd=Vec3(0.6,0.7,0.8),Ks=Vec3(0.2,0.2,0.2),Ns=1, refl=0)]\n",
    "\n",
    "triangles = ground + body + wheels\n",
    "lights = [PointLight(pos=Vec3(-0.3,-0.4,1),color=Vec3(0.8),size=0.1)]\n",
    "\n",
    "SAMPLES_PER_PIXEL = 4\n",
    "camera(Vec3(0),200,200,60,triangles,lights)"
   ]
  },
  {
   "cell_type": "markdown",
   "metadata": {},
   "source": [
    "That looks shiny! I love it :)\n",
    "\n",
    "Now it is a good time for a little confession..\n",
    "I wanted the car to look like lightning McQueen, my favourite car.\n",
    "And well.. It is red, so that's a good start, but it doesn't look as fast as McQueen.\n",
    "To compensate for my terrible modelling skills, we will just make the rendering lightning fast!"
   ]
  },
  {
   "cell_type": "markdown",
   "metadata": {},
   "source": [
    "## Part 8: Many cores make light work\n",
    "Most people have more than a single processor core in their computer.\n",
    "Currently, we are using only a single core to render.\n",
    "By dividing the rendering work evenly over all of the cores in your computer we can speed up the rendering a lot!\n",
    "\n",
    "There are many computer science problems that don't benefit from adding more cores.\n",
    "Some problems are comparable to tightening a screw.\n",
    "It does not matter if you have a thousand friends who are willing to help, it will take just as long as if you were alone.\n",
    "\n",
    "Raytracing is a bit different.\n",
    "It is more comparable to tightening a million screws.\n",
    "That's a task that nobody wants to do alone.\n",
    "But if all your friends help, it can be a doable task!\n",
    "\n",
    "Every ray that you trace could be done on a different core.\n",
    "I will, however, assume that you do not have more than 200 cores in your machine.\n",
    "Therefore we will group rays together.\n",
    "Every core renders a whole row of pixels.\n",
    "When a core is done with a row, it will pick the first row that is not being worked on yet, until all rows are compleated.\n",
    "\n",
    "Lets first move all the code to render a row into its own function."
   ]
  },
  {
   "cell_type": "code",
   "execution_count": 36,
   "metadata": {},
   "outputs": [],
   "source": [
    "def render_row(data):\n",
    "    '''\n",
    "    Renders a row of width pixels, of the world of triangles.\n",
    "    :param data: contains all the information needed to render a row\n",
    "    '''\n",
    "    has_warned_clip = False\n",
    "    row = []\n",
    "    for x in range(data[\"width\"]):\n",
    "        col = Vec3(0.0)\n",
    "\n",
    "        for _ in range(SAMPLES_PER_PIXEL):\n",
    "            xdir = (2 * (x+random()) * data[\"inv_width\"] - 1) * data[\"angle\"] * data[\"aspect_ratio\"]\n",
    "            ydir = (1 - 2 * (data[\"y\"]+random()) * data[\"inv_height\"]) * data[\"angle\"]\n",
    "\n",
    "            raydir = Vec3(xdir, ydir, 1)\n",
    "            raydir.normalize()\n",
    "            ray = Ray(data[\"camera_pos\"], raydir)\n",
    "\n",
    "            # Trace the ray with the bounding box\n",
    "            col += trace_ray(ray, data[\"triangles\"], data[\"lights\"], data[\"bounding_box\"])\n",
    "\n",
    "        col/=SAMPLES_PER_PIXEL\n",
    "        col = col.toList()\n",
    "        clipped_col = clip(col,0.0,1.0)\n",
    "        if not has_warned_clip:\n",
    "            if col != clipped_col:\n",
    "                warnings.warn(\"Image is clipping! Lights might be to bright..\")\n",
    "                has_warned_clip = True\n",
    "        row.append(clipped_col)\n",
    "    return row"
   ]
  },
  {
   "cell_type": "markdown",
   "metadata": {},
   "source": [
    "We will use Pool to automatically distribute the work over all the cores.\n",
    "This pool.map takes a function and some data.\n",
    "In our case, the function will be the render_row function, and the data will be a list of rows.\n",
    "Every row contains a row number, as well as all the global variables that are needed to render the row.\n",
    "\n",
    "The pool.map can now automatically divide the work over your cores!"
   ]
  },
  {
   "cell_type": "code",
   "execution_count": 37,
   "metadata": {},
   "outputs": [],
   "source": [
    "# Import pool to split up the work\n",
    "# This line imports a threading based pool\n",
    "from multiprocessing.pool import ThreadPool as Pool\n",
    "\n",
    "# !_______________________________________________________________!\n",
    "# The following line imports a process-based pool.\n",
    "# This would be the prefered way to do it,\n",
    "# but it sadly doesn't work in an interactive environment like this\n",
    "# !_______________________________________________________________!\n",
    "# from multiprocessing import Pool\n",
    "\n",
    "def camera(camera_pos, width, height, fov, triangles, lights):\n",
    "    '''\n",
    "    Renders an image of width*height pixels, of the world of triangles.\n",
    "    As seen from the camera position\n",
    "    The field of view is how \"wide\" the lens is.\n",
    "    :param camera_pos: camera position\n",
    "    :param width: horizontal pixels\n",
    "    :param height: vertical pixels\n",
    "    :param fov: field of view\n",
    "    :param triangles: triangles in the world\n",
    "    :param lights: list of lights in the world\n",
    "    '''\n",
    "    \n",
    "    angle = tan(pi * 0.5 * fov / 180)\n",
    "    aspect_ratio = width / height\n",
    "    inv_width = 1/width\n",
    "    inv_height = 1/height\n",
    "    \n",
    "    # Create the AABB\n",
    "    bounding_box = create_aabb(triangles)\n",
    "    \n",
    "    # Divide all the rows over your cpu cores\n",
    "    # All the data about the world needs to be passed through to the rendering function\n",
    "    with Pool() as p:\n",
    "        image = p.map(render_row,[{\"angle\":angle, \"aspect_ratio\":aspect_ratio,\n",
    "                                   \"inv_width\":inv_width, \"inv_height\":inv_height,\n",
    "                                   \"bounding_box\":bounding_box, \"camera_pos\":camera_pos,\n",
    "                                   \"triangles\":triangles, \"lights\":lights,\n",
    "                                   \"width\":width, \"y\":y} for y in range(height)])   \n",
    "    plt.imshow(image)\n",
    "    plt.show()"
   ]
  },
  {
   "cell_type": "code",
   "execution_count": 38,
   "metadata": {},
   "outputs": [
    {
     "data": {
      "image/png": "[encoded data removed]",
      "text/plain": [
       "<Figure size 432x288 with 1 Axes>"
      ]
     },
     "metadata": {
      "needs_background": "light"
     },
     "output_type": "display_data"
    }
   ],
   "source": [
    "camera(Vec3(0),200,200,60,triangles,lights)"
   ]
  },
  {
   "cell_type": "markdown",
   "metadata": {},
   "source": [
    "Did you notice the massive speed increase?? no? me neither.\n",
    "There is no need to worry though, as this is perfectly explainable.\n",
    "\n",
    "This jupyter notebook is an interactive python environment.\n",
    "That means that it is not possible to use the Pool function to spawn new processes.\n",
    "For demonstration purposes, I, therefore, used ThreadPool.\n",
    "This spawns threads.\n",
    "\n",
    "In Python all threads that belong to the same process run on the same core, but the concept is still there.\n",
    "If you are coding along using a non-interactive python environment, then make sure to test uncommenting the line:\n",
    "from multiprocessing import Pool.\n",
    "That will then actually make use of all your cores!\n",
    "\n",
    "I think its fair to say that jupyter notebooks are a bit of a \"round peg in a square hole\" when it comes to raytracing.\n",
    "That being said, using our triangles we can easily make a square hole, but anything round is difficult.\n",
    "To solve that problem, we will add support for rendering spheres in the next chapter!"
   ]
  },
  {
   "cell_type": "markdown",
   "metadata": {},
   "source": [
    "## Part 9: Why have triangles when you can have spheres\n",
    "To draw a sphere, we need lots of triangles.\n",
    "Lots of triangles make rendering slow, which is a problem.\n",
    "Especially now that we can only really use a single core.\n",
    "\n",
    "To solve this problem, we will add spheres as a primitive shape to the ray tracer.\n",
    "Lets first add a sphere class"
   ]
  },
  {
   "cell_type": "code",
   "execution_count": 39,
   "metadata": {},
   "outputs": [],
   "source": [
    "class Sphere:\n",
    "    def __init__(self, center, radius, Kd, Ks, Ns, refl):\n",
    "        '''\n",
    "        Basic sphere class\n",
    "        :param center: center of the sphere\n",
    "        :param radius: radius of the sphere\n",
    "        :param Kd: Diffuse reflectivity\n",
    "        :param Ks: Specular reflectivity\n",
    "        :param Ns: Shininess\n",
    "        :param refl: mirror like reflectivity\n",
    "        '''\n",
    "        self.center = center\n",
    "        self.radius = radius\n",
    "        self.Kd = Kd\n",
    "        self.Ks = Ks\n",
    "        self.Ns = Ns\n",
    "        self.refl = refl"
   ]
  },
  {
   "cell_type": "markdown",
   "metadata": {},
   "source": [
    "Now we need a way to check if a ray hits a sphere.\n",
    "A sphere is the collection of points that all have the same distance to some center point.\n",
    "That means that if we call the center C, and a point on the sphere P, then:\n",
    "\n",
    "`||P-C|| = r^2.`\n",
    "\n",
    "This is the same as\n",
    "\n",
    "`dot(P-C, P-C) = r^2`\n",
    "\n",
    "A ray is defined by some direction vector A, and a starting point B.\n",
    "Together that gives the equation:\n",
    "\n",
    "`At+B` for any `t`\n",
    "\n",
    "Because we want to find a point that is both on the line and on the sphere, we can fill in At+B for P. That gives:\n",
    "\n",
    "`dot(At+B-C,At+B-C) = r^2`\n",
    "\n",
    "This is equal to\n",
    "\n",
    "`dot(A,A)*t^2 + 2*dot(A,B-C)*t + dot(B-C,B-C)-r^2 = 0`\n",
    "\n",
    "This is just a quadratic equation for t!\n",
    "\n",
    "`a = dot(A,A)\n",
    "b = 2*dot(A,B-C)\n",
    "c = dot(B-C,B-C)-r^2`\n",
    "\n",
    "this can be solved using the abc-method to find t :)"
   ]
  },
  {
   "cell_type": "code",
   "execution_count": 40,
   "metadata": {},
   "outputs": [],
   "source": [
    "def sphere_intersection_test(self, other):\n",
    "    B_min_C = self.origin - other.center\n",
    "    a = self.direction.dot(self.direction)\n",
    "    b = 2 * B_min_C.dot(self.direction)\n",
    "    c = B_min_C.dot(B_min_C) - other.radius*other.radius\n",
    "    \n",
    "    # Caluculate the discriminant\n",
    "    discriminant = b**2 - 4*a*c\n",
    "    \n",
    "    # If the discriminant is smaller than 0, there is no hit.\n",
    "    if discriminant<0:\n",
    "        return False\n",
    "    else:\n",
    "        # Calculate the hit location\n",
    "        t = (-b -sqrt(discriminant))/(2*a)\n",
    "        if t<0:\n",
    "            return False\n",
    "        return t\n",
    "\n",
    "Ray.sphere_intersection_test = sphere_intersection_test"
   ]
  },
  {
   "cell_type": "markdown",
   "metadata": {},
   "source": [
    "The trace_ray function now needs to check for spheres"
   ]
  },
  {
   "cell_type": "code",
   "execution_count": 41,
   "metadata": {},
   "outputs": [],
   "source": [
    "def trace_ray(ray, triangles, spheres, lights, bounding_box):\n",
    "    '''\n",
    "    Returns the color of the ray.\n",
    "    Color changes depending on the distance to the hit\n",
    "    :param ray: Ray that has been shot into the world\n",
    "    :param triangles: list of triangles in the world\n",
    "    :param lights: list of lights in the world\n",
    "    :return: color\n",
    "    '''\n",
    "    \n",
    "    if not ray.ray_AABB_intersect(bounding_box):\n",
    "        return Vec3(0.0)\n",
    "    \n",
    "    has_hit = False\n",
    "    closest_hit = inf\n",
    "    closest_obj = None\n",
    "    normal = None\n",
    "    \n",
    "    for tri in triangles:\n",
    "        t = ray.triangle_intersection_test(tri)\n",
    "        if t:\n",
    "            has_hit = True\n",
    "            if t<closest_hit:\n",
    "                closest_hit = t\n",
    "                closest_obj = tri\n",
    "                normal = tri.normal\n",
    "    \n",
    "    # Check if a sphere is hit\n",
    "    for sph in spheres:\n",
    "        t = ray.sphere_intersection_test(sph)\n",
    "        if t:\n",
    "            has_hit = True\n",
    "            if t<closest_hit:\n",
    "                closest_hit = t\n",
    "                closest_obj = sph\n",
    "                normal = (ray.origin+ray.direction*(closest_hit-EPSILON)-sph.center).unit()\n",
    "    \n",
    "    if has_hit:\n",
    "        hit_pos = ray.origin+ray.direction*(closest_hit-EPSILON)\n",
    "        \n",
    "        col = Vec3(0.0)\n",
    "        for light in lights:\n",
    "            light.move_light()\n",
    "            if check_if_visible(hit_pos,light.get_pos(),closest_obj,triangles, spheres):\n",
    "                col += diffuse(closest_obj, hit_pos, light.get_pos(), normal) * light.color\n",
    "                col += specular(closest_obj, hit_pos, light.get_pos(), ray.origin, normal) * light.color\n",
    "        \n",
    "        if closest_obj.refl > 0:\n",
    "            reflec_direction = (ray.direction - 2 * (normal.dot(ray.direction)) * normal)\n",
    "            \n",
    "            bounce_ray = Ray(hit_pos, reflec_direction)\n",
    "            \n",
    "            col += trace_ray(bounce_ray, triangles, spheres, lights, bounding_box) * closest_obj.refl\n",
    "        \n",
    "        return col\n",
    "    # Else, return black\n",
    "    return Vec3(0.0)"
   ]
  },
  {
   "cell_type": "markdown",
   "metadata": {},
   "source": [
    "Now we need to update the occlusion test"
   ]
  },
  {
   "cell_type": "code",
   "execution_count": 42,
   "metadata": {},
   "outputs": [],
   "source": [
    "def check_if_visible(pos, light_pos, hit_object, triangles, spheres):\n",
    "    '''\n",
    "    Check if the point on the triangle is visible from the light source.\n",
    "    :param pos: Hit point\n",
    "    :param light_pos: Light source position\n",
    "    :param hit_object: The object that is looked at\n",
    "    :param triangles: All triangles in the world\n",
    "    :param spheres: All the spheres in the world\n",
    "    :return: Is the triangle visible\n",
    "    '''\n",
    "    direction = (pos - light_pos)\n",
    "    direction.normalize()\n",
    "    ray = Ray(light_pos, direction)\n",
    "    \n",
    "    has_hit = False\n",
    "    closest_hit = inf\n",
    "    closest_obj = None\n",
    "    \n",
    "    for tri in triangles:\n",
    "        t = ray.triangle_intersection_test(tri)\n",
    "        if t:\n",
    "            has_hit = True\n",
    "            if t<closest_hit:\n",
    "                closest_hit = t\n",
    "                closest_obj = tri\n",
    "    \n",
    "    # Loop over all the spheres\n",
    "    for sph in spheres:\n",
    "        t = ray.sphere_intersection_test(sph)\n",
    "        if t:\n",
    "            has_hit = True\n",
    "            if t<closest_hit:\n",
    "                closest_hit = t\n",
    "                closest_obj = sph\n",
    "    \n",
    "    if has_hit:\n",
    "        return closest_obj == hit_object\n",
    "    return False"
   ]
  },
  {
   "cell_type": "markdown",
   "metadata": {},
   "source": [
    "Even the AABB generation needs an update"
   ]
  },
  {
   "cell_type": "code",
   "execution_count": 43,
   "metadata": {},
   "outputs": [],
   "source": [
    "def create_aabb(triangles, spheres):\n",
    "    x_min = y_min = z_min = inf\n",
    "    x_max = y_max = z_max = -inf\n",
    "    if triangles:\n",
    "        x_min = min(x_min,min(min(triangle.a.x,triangle.b.x,triangle.c.x) for triangle in triangles))\n",
    "        y_min = min(y_min,min(min(triangle.a.y,triangle.b.y,triangle.c.y) for triangle in triangles))\n",
    "        z_min = min(z_min,min(min(triangle.a.z,triangle.b.z,triangle.c.z) for triangle in triangles))\n",
    "\n",
    "        x_max = max(x_max,max(max(triangle.a.x,triangle.b.x,triangle.c.x) for triangle in triangles))\n",
    "        y_max = max(y_max,max(max(triangle.a.y,triangle.b.y,triangle.c.y) for triangle in triangles))\n",
    "        z_max = max(z_max,max(max(triangle.a.z,triangle.b.z,triangle.c.z) for triangle in triangles))\n",
    "    \n",
    "    if spheres:\n",
    "        x_min = min(x_min,min(s.center.x-s.radius for s in spheres))\n",
    "        y_min = min(y_min,min(s.center.y-s.radius for s in spheres))\n",
    "        z_min = min(z_min,min(s.center.z-s.radius for s in spheres))\n",
    "        \n",
    "        x_max = max(x_max,min(s.center.x+s.radius for s in spheres))\n",
    "        y_max = max(y_max,min(s.center.y+s.radius for s in spheres))\n",
    "        z_max = max(z_max,min(s.center.z+s.radius for s in spheres))\n",
    "    \n",
    "    min_corner = Vec3(x_min, y_min, z_min)\n",
    "    max_corner = Vec3(x_max, y_max, z_max)\n",
    "\n",
    "    return AABB(min_corner, max_corner)\n",
    "    "
   ]
  },
  {
   "cell_type": "markdown",
   "metadata": {},
   "source": [
    "Finally, we need to update the render_row and camera functions"
   ]
  },
  {
   "cell_type": "code",
   "execution_count": 44,
   "metadata": {},
   "outputs": [],
   "source": [
    "def render_row(data):\n",
    "    '''\n",
    "    Renders a row of width pixels, of the world of triangles.\n",
    "    :param data: contains all the information needed to render a row\n",
    "    '''\n",
    "    has_warned_clip = False\n",
    "    row = []\n",
    "    for x in range(data[\"width\"]):\n",
    "        col = Vec3(0.0)\n",
    "\n",
    "        for _ in range(SAMPLES_PER_PIXEL):\n",
    "            xdir = (2 * (x+random()) * data[\"inv_width\"] - 1) * data[\"angle\"] * data[\"aspect_ratio\"]\n",
    "            ydir = (1 - 2 * (data[\"y\"]+random()) * data[\"inv_height\"]) * data[\"angle\"]\n",
    "\n",
    "            raydir = Vec3(xdir, ydir, 1)\n",
    "            raydir.normalize()\n",
    "            ray = Ray(data[\"camera_pos\"], raydir)\n",
    "\n",
    "            # Add the spheres\n",
    "            col += trace_ray(ray, data[\"triangles\"], data[\"spheres\"], data[\"lights\"], data[\"bounding_box\"])\n",
    "\n",
    "        col/=SAMPLES_PER_PIXEL\n",
    "        col = col.toList()\n",
    "        clipped_col = clip(col,0.0,1.0)\n",
    "        if not has_warned_clip:\n",
    "            if col != clipped_col:\n",
    "                warnings.warn(\"Image is clipping! Lights might be too bright..\")\n",
    "                has_warned_clip = True\n",
    "        row.append(clipped_col)\n",
    "    return row\n",
    "\n",
    "def camera(camera_pos, width, height, fov, triangles, spheres, lights):\n",
    "    '''\n",
    "    Renders an image of width*height pixels, of the world of triangles.\n",
    "    As seen from the camera position\n",
    "    The field of view is how \"wide\" the lens is.\n",
    "    :param camera_pos: camera position\n",
    "    :param width: horizontal pixels\n",
    "    :param height: vertical pixels\n",
    "    :param fov: field of view\n",
    "    :param triangles: triangles in the world\n",
    "    :param lights: list of lights in the world\n",
    "    '''\n",
    "    \n",
    "    angle = tan(pi * 0.5 * fov / 180)\n",
    "    aspect_ratio = width / height\n",
    "    inv_width = 1/width\n",
    "    inv_height = 1/height\n",
    "    \n",
    "    bounding_box = create_aabb(triangles, spheres)\n",
    "    \n",
    "    with Pool() as p:\n",
    "        image = p.map(render_row,[{\"angle\":angle, \"aspect_ratio\":aspect_ratio,\n",
    "                                   \"inv_width\":inv_width, \"inv_height\":inv_height,\n",
    "                                   \"bounding_box\":bounding_box, \"camera_pos\":camera_pos,\n",
    "                                   \"triangles\":triangles, \"spheres\":spheres,\n",
    "                                   \"lights\":lights, \"width\":width, \"y\":y} for y in range(height)])   \n",
    "    plt.imshow(image)\n",
    "    plt.show()"
   ]
  },
  {
   "cell_type": "markdown",
   "metadata": {},
   "source": [
    "Now we can render a scene with spheres!\n",
    "Let's add two mirror-like spheres.\n",
    "And let's also make the car a little bit less flat while we are at it.\n",
    "We will use a relatively high resolution for this render, so it might take a while.\n",
    "\n",
    "This render will show a lot of the important things that we have learned.\n",
    "It has a lot of triangles, with different materials.\n",
    "There are shadows and reflections.\n",
    "And of course, there are spheres!"
   ]
  },
  {
   "cell_type": "code",
   "execution_count": 45,
   "metadata": {},
   "outputs": [
    {
     "name": "stderr",
     "output_type": "stream",
     "text": [
      "c:\\users\\noah\\pycharmprojects\\pyraytacernotebook\\venv\\lib\\site-packages\\ipykernel_launcher.py:27: UserWarning: Image is clipping! Lights might be to bright..\n"
     ]
    },
    {
     "data": {
      "image/png": "[encoded data removed]",
      "text/plain": [
       "<Figure size 432x288 with 1 Axes>"
      ]
     },
     "metadata": {
      "needs_background": "light"
     },
     "output_type": "display_data"
    }
   ],
   "source": [
    "sphere_1 = Sphere(Vec3(0.5,-0.1,4.3),0.8,Kd=Vec3(0.4),Ks=Vec3(0.3),Ns=1, refl=0.8)\n",
    "sphere_2 = Sphere(Vec3(-0.5,-0,2),0.4,Kd=Vec3(0.3),Ks=Vec3(0.3),Ns=1, refl=0.8)\n",
    "spheres = [sphere_1, sphere_2]\n",
    "\n",
    "ground = [Triangle(Vec3(-0.9,-1,2),Vec3(-0.9,-1,4),Vec3(0.9,-1,2),Kd=Vec3(1.0,0.7,0.1),Ks=Vec3(0.1,0.1,0.2),Ns=1, refl=0.2),\n",
    "          Triangle(Vec3(0.9,-1,2),Vec3(-0.9,-1,4),Vec3(0.9,-1,4),Kd=Vec3(1.0,0.7,0.1),Ks=Vec3(0.1,0.1,0.2),Ns=1, refl=0.2)]\n",
    "\n",
    "body = [Triangle(Vec3(-0.6,-0.9,3),Vec3(-0.6,-0.3,3),Vec3(0.3,-0.9,3),Kd=Vec3(0.6,0.2,0.2),Ks=Vec3(0.4,0.2,0.2),Ns=1, refl=0),\n",
    "        Triangle(Vec3(0.3,-0.9,3),Vec3(-0.6,-0.3,3),Vec3(0.3,-0.3,3),Kd=Vec3(0.6,0.2,0.2),Ks=Vec3(0.4,0.2,0.2),Ns=1, refl=0),\n",
    "        Triangle(Vec3(0.3,-0.9,3),Vec3(0.3,-0.6,3),Vec3(0.6,-0.9,3),Kd=Vec3(0.6,0.2,0.2),Ks=Vec3(0.4,0.2,0.2),Ns=1, refl=0),\n",
    "        Triangle(Vec3(0.6,-0.9,3),Vec3(0.3,-0.6,3),Vec3(0.6,-0.6,3),Kd=Vec3(0.6,0.2,0.2),Ks=Vec3(0.4,0.2,0.2),Ns=1, refl=0),\n",
    "        \n",
    "        Triangle(Vec3(-0.6,-0.9,3.5),Vec3(-0.6,-0.3,3.5),Vec3(0.3,-0.9,3.5),Kd=Vec3(0.6,0.2,0.2),Ks=Vec3(0.4,0.2,0.2),Ns=1, refl=0),\n",
    "        Triangle(Vec3(0.3,-0.9,3.5),Vec3(-0.6,-0.3,3.5),Vec3(0.3,-0.3,3.5),Kd=Vec3(0.6,0.2,0.2),Ks=Vec3(0.4,0.2,0.2),Ns=1, refl=0),\n",
    "        Triangle(Vec3(0.3,-0.9,3.5),Vec3(0.3,-0.6,3.5),Vec3(0.6,-0.9,3.5),Kd=Vec3(0.6,0.2,0.2),Ks=Vec3(0.4,0.2,0.2),Ns=1, refl=0),\n",
    "        Triangle(Vec3(0.6,-0.9,3.5),Vec3(0.3,-0.6,3.5),Vec3(0.6,-0.6,3.5),Kd=Vec3(0.6,0.2,0.2),Ks=Vec3(0.4,0.2,0.2),Ns=1, refl=0),\n",
    "       \n",
    "        Triangle(Vec3(-0.6,-0.3,3),Vec3(-0.6,-0.3,3.5),Vec3(0.3,-0.3,3.5),Kd=Vec3(0.6,0.2,0.2),Ks=Vec3(0.4,0.2,0.2),Ns=1, refl=0),\n",
    "        Triangle(Vec3(-0.6,-0.3,3),Vec3(0.3,-0.3,3.5),Vec3(0.3,-0.3,3),Kd=Vec3(0.6,0.2,0.2),Ks=Vec3(0.4,0.2,0.2),Ns=1, refl=0),\n",
    "        Triangle(Vec3(0.3,-0.3,3),Vec3(0.3,-0.3,3.5),Vec3(0.3,-0.6,3.5),Kd=Vec3(0.6,0.2,0.2),Ks=Vec3(0.4,0.2,0.2),Ns=1, refl=0),\n",
    "        Triangle(Vec3(0.3,-0.3,3),Vec3(0.3,-0.6,3.5),Vec3(0.3,-0.6,3),Kd=Vec3(0.6,0.2,0.2),Ks=Vec3(0.4,0.2,0.2),Ns=1, refl=0),\n",
    "        Triangle(Vec3(0.3,-0.6,3),Vec3(0.3,-0.6,3.5),Vec3(0.6,-0.6,3.5),Kd=Vec3(0.6,0.2,0.2),Ks=Vec3(0.4,0.2,0.2),Ns=1, refl=0),\n",
    "        Triangle(Vec3(0.3,-0.6,3),Vec3(0.6,-0.6,3.5),Vec3(0.6,-0.6,3),Kd=Vec3(0.6,0.2,0.2),Ks=Vec3(0.4,0.2,0.2),Ns=1, refl=0),\n",
    "        Triangle(Vec3(0.6,-0.6,3),Vec3(0.6,-0.6,3.5),Vec3(0.6,-0.9,3),Kd=Vec3(0.6,0.2,0.2),Ks=Vec3(0.4,0.2,0.2),Ns=1, refl=0),\n",
    "        Triangle(Vec3(0.6,-0.6,3.5),Vec3(0.6,-0.9,3.5),Vec3(0.6,-0.9,3),Kd=Vec3(0.6,0.2,0.2),Ks=Vec3(0.4,0.2,0.2),Ns=1, refl=0),\n",
    "        Triangle(Vec3(-0.6,-0.3,3.5),Vec3(-0.6,-0.3,3),Vec3(-0.6,-0.9,3),Kd=Vec3(0.6,0.2,0.2),Ks=Vec3(0.4,0.2,0.2),Ns=1, refl=0),\n",
    "        Triangle(Vec3(-0.6,-0.3,3.5),Vec3(-0.6,-0.9,3),Vec3(-0.6,-0.9,3.5),Kd=Vec3(0.6,0.2,0.2),Ks=Vec3(0.4,0.2,0.2),Ns=1, refl=0)]\n",
    "        \n",
    "wheels = [Triangle(Vec3(-0.4,-1,3),Vec3(-0.4,-0.9,3),Vec3(-0.3,-1,3),Kd=Vec3(0.6,0.7,0.6),Ks=Vec3(0.2,0.2,0.2),Ns=1, refl=0),\n",
    "          Triangle(Vec3(-0.3,-1,3),Vec3(-0.4,-0.9,3),Vec3(-0.3,-0.9,3),Kd=Vec3(0.6,0.7,0.6),Ks=Vec3(0.2,0.2,0.2),Ns=1, refl=0),\n",
    "          Triangle(Vec3(0.3,-1,3),Vec3(0.3,-0.9,3),Vec3(0.4,-1,3),Kd=Vec3(0.6,0.7,0.6),Ks=Vec3(0.2,0.2,0.2),Ns=1, refl=0),\n",
    "          Triangle(Vec3(0.4,-1,3),Vec3(0.3,-0.9,3),Vec3(0.4,-0.9,3),Kd=Vec3(0.6,0.7,0.6),Ks=Vec3(0.2,0.2,0.2),Ns=1, refl=0)]\n",
    "\n",
    "triangles = ground + body + wheels\n",
    "\n",
    "lights = [PointLight(pos=Vec3(-0.3,-0.4,1),color=Vec3(0.2),size=0.1),\n",
    "          PointLight(pos=Vec3(-3,10,-3),color=Vec3(0.4),size=0.1),\n",
    "          PointLight(pos=Vec3(0),color=Vec3(0.3),size=0.1),\n",
    "          PointLight(pos=Vec3(-1,0,10),color=Vec3(0.4),size=0.1)]\n",
    "\n",
    "SAMPLES_PER_PIXEL = 2\n",
    "camera(Vec3(),300,300,60,triangles,spheres,lights)"
   ]
  },
  {
   "cell_type": "markdown",
   "metadata": {},
   "source": [
    "As you can see there are now two spheres.\n",
    "You can even see the reflection of one of the spheres in the other sphere!\n",
    "\n",
    "We will conclude this tutorial with something fun :)\n",
    "\n",
    "We will make a little animation!"
   ]
  },
  {
   "cell_type": "markdown",
   "metadata": {},
   "source": [
    "## Part 10: Just like a movie\n",
    "Now that we can render a single frame, there is no reason we can't create a little movie.\n",
    "Movies are just lots of slightly different images that are displayed quickly after each other.\n",
    "We will update the camera function because we want to render all the frames before showing the movie.\n",
    "This is a very simple two line-change"
   ]
  },
  {
   "cell_type": "code",
   "execution_count": 46,
   "metadata": {},
   "outputs": [],
   "source": [
    "def camera(camera_pos, width, height, fov, triangles, spheres, lights):\n",
    "    '''\n",
    "    Renders an image of width*height pixels, of the world of triangles.\n",
    "    As seen from the camera position\n",
    "    The field of view is how \"wide\" the lens is.\n",
    "    :param camera_pos: camera position\n",
    "    :param width: horizontal pixels\n",
    "    :param height: vertical pixels\n",
    "    :param fov: field of view\n",
    "    :param triangles: triangles in the world\n",
    "    :param lights: list of lights in the world\n",
    "    '''\n",
    "    \n",
    "    angle = tan(pi * 0.5 * fov / 180)\n",
    "    aspect_ratio = width / height\n",
    "    inv_width = 1/width\n",
    "    inv_height = 1/height\n",
    "    \n",
    "    bounding_box = create_aabb(triangles, spheres)\n",
    "    \n",
    "    with Pool() as p:\n",
    "        image = p.map(render_row,[{\"angle\":angle, \"aspect_ratio\":aspect_ratio,\n",
    "                                   \"inv_width\":inv_width, \"inv_height\":inv_height,\n",
    "                                   \"bounding_box\":bounding_box, \"camera_pos\":camera_pos,\n",
    "                                   \"triangles\":triangles, \"spheres\":spheres,\n",
    "                                   \"lights\":lights, \"width\":width, \"y\":y} for y in range(height)])   \n",
    "    # Instead of showing the image, just return it\n",
    "    return image"
   ]
  },
  {
   "cell_type": "markdown",
   "metadata": {},
   "source": [
    "Now we can render a sequence of images.\n",
    "Every image we will move the camera a little bit forward.\n",
    "Because every image takes a while to render, this too is a great moment to grab some tea :)"
   ]
  },
  {
   "cell_type": "code",
   "execution_count": 47,
   "metadata": {},
   "outputs": [
    {
     "name": "stdout",
     "output_type": "stream",
     "text": [
      "STARTING RENDER\n",
      "Done frame: 1/20\n",
      "Done frame: 2/20\n",
      "Done frame: 3/20\n",
      "Done frame: 4/20\n"
     ]
    },
    {
     "name": "stderr",
     "output_type": "stream",
     "text": [
      "c:\\users\\noah\\pycharmprojects\\pyraytacernotebook\\venv\\lib\\site-packages\\ipykernel_launcher.py:27: UserWarning: Image is clipping! Lights might be to bright..\n"
     ]
    },
    {
     "name": "stdout",
     "output_type": "stream",
     "text": [
      "Done frame: 5/20\n",
      "Done frame: 6/20\n",
      "Done frame: 7/20\n",
      "Done frame: 8/20\n",
      "Done frame: 9/20\n",
      "Done frame: 10/20\n",
      "Done frame: 11/20\n",
      "Done frame: 12/20\n",
      "Done frame: 13/20\n",
      "Done frame: 14/20\n",
      "Done frame: 15/20\n",
      "Done frame: 16/20\n",
      "Done frame: 17/20\n",
      "Done frame: 18/20\n",
      "Done frame: 19/20\n",
      "Done frame: 20/20\n"
     ]
    }
   ],
   "source": [
    "SAMPLES_PER_PIXEL = 2\n",
    "FRAMES = 20\n",
    "DISTANCE = 2.5\n",
    "\n",
    "frames = []\n",
    "\n",
    "print(\"STARTING RENDER\")\n",
    "\n",
    "for x in range(FRAMES):\n",
    "    frames.append(camera(Vec3(0,0,x/FRAMES*DISTANCE),100,100,60,triangles,spheres,lights))\n",
    "    print(f\"Done frame: {x+1}/{FRAMES}\")"
   ]
  },
  {
   "cell_type": "markdown",
   "metadata": {},
   "source": [
    "Now that the render is completed its time to watch it!\n",
    "It will loop 5 times.\n",
    "This is not the ideal way to display a movie in a jupyter notebook, but it should work on all platforms."
   ]
  },
  {
   "cell_type": "code",
   "execution_count": 2,
   "metadata": {},
   "outputs": [
    {
     "ename": "NameError",
     "evalue": "name 'plt' is not defined",
     "output_type": "error",
     "traceback": [
      "\u001b[1;31m---------------------------------------------------------------------------\u001b[0m",
      "\u001b[1;31mNameError\u001b[0m                                 Traceback (most recent call last)",
      "\u001b[1;32m<ipython-input-2-c37465676b9e>\u001b[0m in \u001b[0;36m<module>\u001b[1;34m\u001b[0m\n\u001b[0;32m      2\u001b[0m \u001b[1;32mfrom\u001b[0m \u001b[0mtime\u001b[0m \u001b[1;32mimport\u001b[0m \u001b[0msleep\u001b[0m\u001b[1;33m\u001b[0m\u001b[1;33m\u001b[0m\u001b[0m\n\u001b[0;32m      3\u001b[0m \u001b[1;33m\u001b[0m\u001b[0m\n\u001b[1;32m----> 4\u001b[1;33m \u001b[0mplt\u001b[0m\u001b[1;33m.\u001b[0m\u001b[0mfigure\u001b[0m\u001b[1;33m(\u001b[0m\u001b[1;33m)\u001b[0m\u001b[1;33m\u001b[0m\u001b[1;33m\u001b[0m\u001b[0m\n\u001b[0m\u001b[0;32m      5\u001b[0m \u001b[1;32mfor\u001b[0m \u001b[0m_\u001b[0m \u001b[1;32min\u001b[0m \u001b[0mrange\u001b[0m\u001b[1;33m(\u001b[0m\u001b[1;36m5\u001b[0m\u001b[1;33m)\u001b[0m\u001b[1;33m:\u001b[0m\u001b[1;33m\u001b[0m\u001b[1;33m\u001b[0m\u001b[0m\n\u001b[0;32m      6\u001b[0m     \u001b[1;31m# Loop over all the frames\u001b[0m\u001b[1;33m\u001b[0m\u001b[1;33m\u001b[0m\u001b[1;33m\u001b[0m\u001b[0m\n",
      "\u001b[1;31mNameError\u001b[0m: name 'plt' is not defined"
     ]
    }
   ],
   "source": [
    "from IPython.display import clear_output\n",
    "from time import sleep\n",
    "\n",
    "plt.figure()\n",
    "for _ in range(5):\n",
    "    # Loop over all the frames\n",
    "    for i in range(FRAMES):\n",
    "        # Show the current frame\n",
    "        plt.imshow(frames[i])\n",
    "        plt.show()\n",
    "        # Wait a little bit, and clear the screen\n",
    "        sleep(0.04)\n",
    "\n",
    "        clear_output(wait=True)"
   ]
  },
  {
   "cell_type": "markdown",
   "metadata": {},
   "source": [
    "# Conclusion\n",
    "Congratulations!\n",
    "You have now completed this tutorial.\n",
    "\n",
    "In this tutorial, we have covered a lot of ray tracing topics.\n",
    "We started with some simple triangles and ended with our own 3D animated movie.\n",
    "You now know some of the basic optimizations that can be done to improve the performance of ray tracing.\n",
    "This, however, is only the beginning.\n",
    "I would like to give a few ideas for things that you can research next.\n",
    "\n",
    "Adding more triangles really slows down the ray tracer that we just build.\n",
    "Our bounding box optimization can be improved to increase the performance on scenes with lots of triangles.\n",
    "To learn more about this, read about k-d trees.\n",
    "k-d trees use a tree-like structure of bounding boxes.\n",
    "When testing if a ray hits something, you first test if the outermost bounding box is hit, just like with our ray tracer.\n",
    "If that is the case you look at the smaller bounding boxes inside of the outer bounding box.\n",
    "This continues until you reach the lowest level of bounding boxes.\n",
    "Then you need to check for a hit with all triangles in that bounding box.\n",
    "This can be done quickly, because there likely aren't many triangles in the lowest level bounding box.\n",
    "\n",
    "Scenes can also be made more realistic looking by using monte-carlo methods.\n",
    "This is called path tracing.\n",
    "Here you simulate how light bounces from one object onto another even if the objects are not mirror-like at all.\n",
    "This is done by simulating rays in random directions on every bounce to sample the incoming light from other objects.\n",
    "\n",
    "Finally I would like to recommend looking into volumetric path tracing.\n",
    "Here you don't only consider objects like triangles, but also volumes.\n",
    "Volumes can be made from semi-transparent materials like smoke.\n",
    "This can give very cool and photorealistic looks to your renders!\n",
    "\n",
    "If you have been coding along, make sure to send me some of your renders.\n",
    "I would love to see them!\n",
    "n.j.m.jadoenathmisier@student.tudelft.nl\n",
    "\n",
    "Finally I will leave you with an image that I made.\n",
    "For the ray-tracer that I used to render this image, I have implemented k-d trees and (volumetric) path tracing.\n",
    "\n",
    "![An advanced render](hardbox_64000it.bmp)"
   ]
  },
  {
   "cell_type": "code",
   "execution_count": null,
   "metadata": {},
   "outputs": [],
   "source": []
  }
 ],
 "metadata": {
  "kernelspec": {
   "display_name": "Python 3",
   "language": "python",
   "name": "python3"
  },
  "language_info": {
   "codemirror_mode": {
    "name": "ipython",
    "version": 3
   },
   "file_extension": ".py",
   "mimetype": "text/x-python",
   "name": "python",
   "nbconvert_exporter": "python",
   "pygments_lexer": "ipython3",
   "version": "3.7.3"
  },
  "pycharm": {
   "stem_cell": {
    "cell_type": "raw",
    "metadata": {
     "collapsed": false
    },
    "source": [
     "    %matplotlib notebook"
    ]
   }
  }
 },
 "nbformat": 4,
 "nbformat_minor": 2
}
