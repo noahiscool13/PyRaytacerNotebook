{
 "cells": [
  {
   "cell_type": "markdown",
   "metadata": {},
   "source": [
    "# Intro to raytracing in python\n",
    "Welcome to this introduction to ray tracing using the worlds most beautiful programing language, Python.\n",
    "In this introduction we will build a ray-tracer.\n",
    "This ray-tracer will only feature basic features, but understanding these is essential for doing more advanced ray-tracing work.\n",
    "Although Python is awesome, it might not be the 'ideal' language for a ray tracer. Python is however very readable.\n",
    "So if you want to program your own ray-tracer, by all means, do it in C, C++ or a similarly performant language."
   ]
  },
  {
   "cell_type": "markdown",
   "metadata": {
    "pycharm": {
     "is_executing": false
    }
   },
   "source": [
    "## Part 1: In the beginning there was only triangles and rays\n",
    "\n",
    "The 2 fundamental parts of a ray-tracer are rays and triangles.\n",
    "\n",
    "In the world of computer graphics, triangles are a great way to create 3D models.\n",
    "Using sufficiently many triangles you could make any 3D shape that you would ever want (even if sufficiently many can mean \"infinitly many\" with curved surfaces, but if you use enough, know one will be able to tell the difference.\n",
    "It will look just like a curved surface, and that its just triangles can stay our little secret!)\n",
    "The easies way to define a triangle is by means of its corner positions.\n",
    "That is all info that we need right now!\n",
    "\n",
    "![sphere from triangles](https://i.stack.imgur.com/RhJgj.gif)\n",
    "\n",
    "To simulate light, we need to be able to simulate light rays. Because this is a basic ray-tracer, we will do something that might seem a bit weird.\n",
    "instead of sending \"photons\" from our lamps and seeing how they fall onto the camera, as would happen in the real world, we will do the opposite.\n",
    "We start  from the camera's point of view and look at the scene.\n",
    "\n",
    "![Tracing from the camera](https://www.scratchapixel.com/images/upload/ray-tracing-refresher/rt-setup2.png?)\n",
    "\n",
    "Lets start with a simple triangle class"
   ]
  },
  {
   "cell_type": "code",
   "execution_count": 34,
   "metadata": {
    "pycharm": {
     "is_executing": false
    }
   },
   "outputs": [],
   "source": [
    "class Triangle():\n",
    "    def __init__(self, a, b, c):\n",
    "        '''\n",
    "        Basic triangle class.\n",
    "        :param a: First corner\n",
    "        :param b: Second corner\n",
    "        :param c: Third corner\n",
    "        '''\n",
    "        self.a = a\n",
    "        self.b = b\n",
    "        self.c = c"
   ]
  },
  {
   "cell_type": "markdown",
   "metadata": {
    "pycharm": {
     "name": "#%% md\n"
    }
   },
   "source": [
    "Now we need the simple ray class\n"
   ]
  },
  {
   "cell_type": "code",
   "execution_count": 35,
   "metadata": {
    "pycharm": {
     "name": "#%%\n"
    }
   },
   "outputs": [],
   "source": [
    "class Ray:\n",
    "    def __init__(self, origin, direction):\n",
    "        '''\n",
    "        Basic ray class.\n",
    "        :param origin: Origin/starting point of the ray\n",
    "        :param direction: Direction of the ray\n",
    "        '''\n",
    "        self.origin = origin\n",
    "        self.direction = direction\n",
    "        \n"
   ]
  },
  {
   "cell_type": "markdown",
   "metadata": {},
   "source": [
    "We already have our 2 most important classes!\n",
    "It is time to move towards creating our first test image as soon as possible right?\n",
    "\n",
    "Well, we will get there soon, I promise. But first, we need 4 more features for our ray-tracer."
   ]
  },
  {
   "cell_type": "markdown",
   "metadata": {},
   "source": [
    "## Part 2: When suddenly a wild camera appeared\n",
    "The features that we need are:\n",
    "- A little bit vector magic\n",
    "- Ray triangle intersection testing\n",
    "- A ray tracing function\n",
    "- A camera \n",
    "\n",
    "We need some way to represent points in our virtual world. Vectors are a nice solution for ray tracing.\n",
    "Using vectors we can define triangles, and rays!\n",
    "We can even use it to locate our camera in the world ones we made a camera.\n",
    "This is not a linear algebra course however, so I added a little MathUtil library to this project, which we can just import. \n",
    "Feel free to look into the MathUtil.py file if you want to learn more about the implementation of vectors.\n",
    "\n",
    "Lets import the library and give some examples:"
   ]
  },
  {
   "cell_type": "code",
   "execution_count": 36,
   "metadata": {
    "pycharm": {
     "is_executing": false,
     "name": "#%%\n"
    }
   },
   "outputs": [
    {
     "name": "stdout",
     "output_type": "stream",
     "text": [
      "Point_c: Vec3<2 -3 3>\n",
      "distance: 4.69041575982343\n"
     ]
    }
   ],
   "source": [
    "from math import *\n",
    "from MathUtil import *\n",
    "\n",
    "# Point_a is a point with:\n",
    "# x = 1, y = 2, z = 3\n",
    "point_a = Vec3(1,2,3)\n",
    "\n",
    "# Point_b is a point with:\n",
    "# x = -1, y = 5, z = 0\n",
    "point_b = Vec3(-1,5,0)\n",
    "\n",
    "# You can subtract vectors\n",
    "point_c = point_a-point_b\n",
    "print(f\"Point_c: {point_c}\")\n",
    "\n",
    "# Or calculate the distance\n",
    "dist = point_a.distance(point_b)\n",
    "print(f\"distance: {dist}\")"
   ]
  },
  {
   "cell_type": "markdown",
   "metadata": {},
   "source": [
    "There are quite some operations which we can do with vectors, and there are even 2D vectors in the Math Util library (named Vec2, as you might have guessed). \n",
    "I wont list them all here, but we will just use them when we need them.\n"
   ]
  },
  {
   "cell_type": "markdown",
   "metadata": {},
   "source": [
    "Ray triangle intersection testing will be a bit more work, but this is the first interesting part!\n",
    "![ray triangle intersection](https://la.mathworks.com/matlabcentral/mlc-downloads/downloads/submissions/49670/versions/3/screenshot.jpg)\n",
    "\n",
    "\n"
   ]
  },
  {
   "cell_type": "code",
   "execution_count": 37,
   "metadata": {
    "pycharm": {
     "name": "#%%\n"
    }
   },
   "outputs": [],
   "source": [
    "#TODO rename other triangle\n",
    "def ray_triangle_intersect(self, other):\n",
    "    '''\n",
    "    Test if the ray hits the triangle.\n",
    "    :param self: The ray\n",
    "    :param other: The triangle\n",
    "    :return: Distance to triangle, 0/False is no hit\n",
    "    '''\n",
    "    \n",
    "    # Calculate the vectors describing the edges of the triangle\n",
    "    edge1 = other.b - other.a\n",
    "    edge2 = other.c - other.a\n",
    "    \n",
    "    # Check if the ray and triangle are not parallel\n",
    "    h = self.direction.cross_product(edge2)\n",
    "    a = edge1.dot(h)\n",
    "\n",
    "    if -EPSILON < a < EPSILON:\n",
    "        return False\n",
    "    \n",
    "    # Calculate U/V (barycentric coordinates) of the hit on the triangle\n",
    "    f = 1.0 / a\n",
    "    s = self.origin - other.a\n",
    "    u = f * (s.dot(h))\n",
    "    \n",
    "    q = s.cross_product(edge1)\n",
    "    v = f * self.direction.dot(q)\n",
    "\n",
    "    # The U must be between 0 and one\n",
    "    if u < 0 or u > 1:\n",
    "        return False\n",
    "    \n",
    "    # The V must be larger than 0, and U+V must be smaller than one\n",
    "    if v < 0 or u + v > 1:\n",
    "        return False\n",
    "    \n",
    "    # Calculate the distance from the origin of the ray to the hit\n",
    "    t = f * edge2.dot(q)\n",
    "\n",
    "    # The distance must be positive because,\n",
    "    # otherwise the triangle could be behind the ray\n",
    "    if t < EPSILON:\n",
    "        return False\n",
    "    \n",
    "    # There was a hit! Return the distance\n",
    "    return t\n"
   ]
  },
  {
   "cell_type": "markdown",
   "metadata": {},
   "source": [
    "We now need to add this function to the Ray class.\n",
    "Adding functions to a class outside of the class definition might not be the cleanest thing to do, but it does the trick.\n",
    "This is called \"monkey patching\".\n",
    "im using a separate code cell for this right now, but in the future, if I make a function that should be in a class, I will do so just after the function definition. "
   ]
  },
  {
   "cell_type": "code",
   "execution_count": 38,
   "metadata": {
    "pycharm": {
     "name": "#%%\n"
    }
   },
   "outputs": [],
   "source": [
    "Ray.triangle_intersection_test = ray_triangle_intersect"
   ]
  },
  {
   "cell_type": "markdown",
   "metadata": {},
   "source": [
    "Now we need the \"Ray tracing function\"\n",
    "This will be the function which receives a ray, and returns the output colour.\n",
    "We will start with a really basic function which just returns black when it hits nothing, and white if it hits a triangle."
   ]
  },
  {
   "cell_type": "code",
   "execution_count": 39,
   "metadata": {
    "pycharm": {
     "name": "#%%\n"
    }
   },
   "outputs": [],
   "source": [
    "def trace_ray(ray, triangles):\n",
    "    '''\n",
    "    Returns the color of the ray.\n",
    "    White = hit\n",
    "    Black = miss \n",
    "    :param ray: Ray that has been shot into the world\n",
    "    :param triangles: list of triangles in the world\n",
    "    :return: color\n",
    "    '''\n",
    "    \n",
    "    # Loop over all triangles\n",
    "    for tri in triangles:\n",
    "        # And if there is a hit\n",
    "        if ray.triangle_intersection_test(tri):\n",
    "            # Return white\n",
    "            return Vec3(1.0)\n",
    "    # Else, return black\n",
    "    return Vec3(0.0)"
   ]
  },
  {
   "cell_type": "markdown",
   "metadata": {},
   "source": [
    "Now the only thing that we need is a camera!\n",
    "The camera will loop over all all the directions that it looks at, as is illustrated in the second picture.\n",
    "For each of the directions, it will call the ray trace function, and save the result.\n",
    "When its done it will show the image!\n",
    "We will use matplotlib for this\n"
   ]
  },
  {
   "cell_type": "code",
   "execution_count": 40,
   "metadata": {
    "pycharm": {
     "name": "#%%\n"
    }
   },
   "outputs": [],
   "source": [
    "from matplotlib import pyplot as plt\n",
    "\n",
    "def camera(camera_pos, width, height, fov, triangles):\n",
    "    '''\n",
    "    Renders a image of width*height pixels, of the world of triangles.\n",
    "    As seen from the camera position\n",
    "    The field of view is how \"wide\" the lens is.\n",
    "    :param camera_pos: camera position\n",
    "    :param width: horizontal pixels\n",
    "    :param height: vertical pixels\n",
    "    :param fov: field of view\n",
    "    :param triangles: triangles in the world\n",
    "    '''\n",
    "    \n",
    "    image = []\n",
    "    \n",
    "    angle = tan(pi * 0.5 * fov / 180)\n",
    "    aspect_ratio = width / height\n",
    "    inv_width = 1/width\n",
    "    inv_height = 1/height\n",
    "    \n",
    "    # For all pixels of the image\n",
    "    for y in range(height):\n",
    "        row = []\n",
    "        for x in range(width):\n",
    "            # Calculate the direction of the ray for this pixel\n",
    "            xdir = (2 * x * inv_width - 1) * angle * aspect_ratio\n",
    "            ydir = (1 - 2 * y * inv_height) * angle\n",
    "            \n",
    "            raydir = Vec3(xdir, ydir, 1)\n",
    "            raydir.normalize()\n",
    "            \n",
    "            # Create the ray\n",
    "            ray = Ray(camera_pos, raydir)\n",
    "            \n",
    "            # Trace the ray, and convert color from Vec3 to [r,g,b]\n",
    "            col = trace_ray(ray, triangles).toList()\n",
    "            row.append(col)\n",
    "        image.append(row)\n",
    "    \n",
    "    plt.imshow(image)\n",
    "    plt.show()\n",
    "    "
   ]
  },
  {
   "cell_type": "markdown",
   "metadata": {},
   "source": [
    "Now that we have all the basic stuff done, we already have a little \"mini ray-tracer\"!\n",
    "Whe should test it :)"
   ]
  },
  {
   "cell_type": "code",
   "execution_count": 41,
   "metadata": {
    "pycharm": {
     "is_executing": false,
     "name": "#%%\n"
    }
   },
   "outputs": [
    {
     "data": {
      "image/png": "[encoded data removed]",
      "text/plain": [
       "<Figure size 432x288 with 1 Axes>"
      ]
     },
     "metadata": {
      "needs_background": "light"
     },
     "output_type": "display_data"
    }
   ],
   "source": [
    "triangles = [Triangle(Vec3(-1,-1,3),Vec3(1,-1,3),Vec3(0,1,3))]\n",
    "camera(Vec3(0),100,100,60,triangles)"
   ]
  },
  {
   "cell_type": "markdown",
   "metadata": {},
   "source": [
    "Congratulations! \n",
    "We have our first triangle!\n",
    "\n",
    "To conclude this part 2, we will make the ray tracing function a little bit more fun as a bonus.\n",
    "The further a triangle is, the darker we will shade it.\n",
    "\n",
    "For this it is important that we look at the first triangle that a ray hits."
   ]
  },
  {
   "cell_type": "code",
   "execution_count": 42,
   "metadata": {
    "pycharm": {
     "is_executing": false,
     "name": "#%%\n"
    }
   },
   "outputs": [],
   "source": [
    "def trace_ray(ray, triangles):\n",
    "    '''\n",
    "    Returns the color of the ray.\n",
    "    Color changes depending on the distance to the hit\n",
    "    :param ray: Ray that has been shot into the world\n",
    "    :param triangles: list of triangles in the world\n",
    "    :return: color\n",
    "    '''\n",
    "    \n",
    "    has_hit = False\n",
    "    closest_hit = inf\n",
    "    \n",
    "    # Loop over all triangles\n",
    "    for tri in triangles:\n",
    "        # And if there is a hit\n",
    "        t = ray.triangle_intersection_test(tri)\n",
    "        if t:\n",
    "            # Take note of the closest one\n",
    "            has_hit = True\n",
    "            closest_hit = min(closest_hit,t)\n",
    "    \n",
    "    # If there is a hit, return the color based on the distance\n",
    "    if has_hit:\n",
    "        return Vec3(1.0)/closest_hit\n",
    "    # Else, return black\n",
    "    return Vec3(0.0)"
   ]
  },
  {
   "cell_type": "markdown",
   "metadata": {},
   "source": [
    "To test this we will use a world with 3 triangles"
   ]
  },
  {
   "cell_type": "code",
   "execution_count": 43,
   "metadata": {
    "pycharm": {
     "is_executing": false,
     "name": "#%%\n"
    }
   },
   "outputs": [
    {
     "data": {
      "image/png": "[encoded data removed]",
      "text/plain": [
       "<Figure size 432x288 with 1 Axes>"
      ]
     },
     "metadata": {
      "needs_background": "light"
     },
     "output_type": "display_data"
    }
   ],
   "source": [
    "\n",
    "triangles = [Triangle(Vec3(-1,-1,3),Vec3(0,1,3),Vec3(1,-1,3)),\n",
    "             Triangle(Vec3(0.5,0.5,1),Vec3(0.1,0,1),Vec3(0.1,0.5,1)),\n",
    "             Triangle(Vec3(-2,1,5),Vec3(4,1,5),Vec3(1,0-1,5))]\n",
    "camera(Vec3(0),100,100,60,triangles)"
   ]
  },
  {
   "cell_type": "markdown",
   "metadata": {},
   "source": [
    "Now that we have a basic ray-tracer, we are ready to continue our journey to more advanced topics!"
   ]
  },
  {
   "cell_type": "markdown",
   "metadata": {},
   "source": [
    "## Part 3: Double rainbow\n",
    "Black and white triangles are admittedly pretty sweet, but imagine blue, green or even yellow triangles!\n",
    "For this we need two new features,\n",
    "\n",
    "- material properties for triangles\n",
    "- light sources\n",
    "\n",
    "### Material properties\n",
    "The material properties will be:\n",
    "\n",
    "- diffuse reflectivity (Kd)\n",
    "- specular reflectivity (Ks)\n",
    "- shininess (Ns)\n",
    "\n",
    "The diffuse reflectivity is the amount of light that falls on the object that will be bounced back from its surface into all directions.\n",
    "If you where to shine a laser pointer at a object with high diffuse reflectivity, you would see a bright spot on the surface of that object on the spot where the laser hits, no matter from which side you are looking.\n",
    "Diffuse reflections happen mostly on rough surfaces, for example with paper.\n",
    "\n",
    "Specular reflections are mirror like reflections where the light that falls on the object gets reflected with the same angle from the object.\n",
    "I do not recommend that you try the experiment with the laser on a specular surface.\n",
    "If the surface is purely specular (not diffuse), you wouldn't even see that there is a laser shining on the object, unless you move your head in just the \"right\" spot.\n",
    "When your eye is directly in the mirror direction of the incoming laser beam it's time to go to the eye-doctor, since it will look like you are directly looking into the laser beam.\n",
    "This happens with smooth surfaces, for example a highly polished piece of metal\n",
    "\n",
    "The shininess property is a measure of how smooth the surface is.\n",
    "Most materials are not perfect mirrors.\n",
    "They might be shiny, but the specular reflection has a bit of spread.\n",
    "Higher shininess means that the surface is more mirror like, and thus the spread of the specular reflection is lower.\n",
    "\n",
    "### Light sources\n",
    "\n",
    "The material properties all mention \"incoming light\". \n",
    "The light has to come from a source.\n",
    "For this we need a \"PointLight\" class.\n",
    "PointLights have only two properties,\n",
    "- how much light they emit (including the color)\n",
    "- the position of the light\n",
    "\n",
    "### Implementation\n",
    "\n",
    "Lets start with the light sources!\n",
    "We will also add a \"get_pos\" function to get the position of the light.\n",
    "This might seem like a un-pythonic thing to do, but it will be useful later on!"
   ]
  },
  {
   "cell_type": "code",
   "execution_count": 44,
   "metadata": {
    "pycharm": {
     "name": "#%%\n"
    }
   },
   "outputs": [],
   "source": [
    "class PointLight:\n",
    "    def __init__(self, pos, color):\n",
    "        '''\n",
    "        Point light to make your world a little bit happier.\n",
    "        :param pos: position of the light\n",
    "        :param color: the color of the light\n",
    "        '''\n",
    "        self.pos = pos\n",
    "        self.color = color\n",
    "    \n",
    "    def get_pos(self):\n",
    "        '''\n",
    "        Gets the position of the light source.\n",
    "        :return: Light source position\n",
    "        '''\n",
    "        return self.pos\n"
   ]
  },
  {
   "cell_type": "markdown",
   "metadata": {},
   "source": [
    "Now we will add material properties to triangles.\n",
    "It will be useful to know the surface normals of all triangles when we calculate the shadings.\n",
    "Therefore we will calculate the normals during the construction of triangles. \n"
   ]
  },
  {
   "cell_type": "code",
   "execution_count": 45,
   "metadata": {
    "pycharm": {
     "name": "#%%\n"
    }
   },
   "outputs": [],
   "source": [
    "class Triangle():\n",
    "    def __init__(self, a, b, c, Kd, Ks, Ns):\n",
    "        '''\n",
    "        Basic triangle class.\n",
    "        :param a: First corner\n",
    "        :param b: Second corner\n",
    "        :param c: Third corner\n",
    "        :param Kd: Diffuse reflectivity\n",
    "        :param Ks: Specular reflectivity\n",
    "        :param Ns: Shininess\n",
    "        '''\n",
    "        self.a = a\n",
    "        self.b = b\n",
    "        self.c = c\n",
    "        self.Kd = Kd\n",
    "        self.Ks = Ks\n",
    "        self.Ns = Ns\n",
    "        \n",
    "        self.normal = (b-a).cross_product(c-a).unit()"
   ]
  },
  {
   "cell_type": "markdown",
   "metadata": {},
   "source": [
    "Lets start with a function that calculates the amount or diffusely reflected light before we do the specular light.\n",
    "For diffuse light, it is not important where the camera is, because the light is evenly distributed all directions.\n"
   ]
  },
  {
   "cell_type": "code",
   "execution_count": 46,
   "metadata": {
    "pycharm": {
     "name": "#%%\n"
    }
   },
   "outputs": [],
   "source": [
    "def diffuse(triangle, posHit, lightPos):\n",
    "    '''\n",
    "    Calculate the fraction of diffusely reflected light.\n",
    "    :param triangle: The triangle that has been hit\n",
    "    :param posHit: The position where it was hit\n",
    "    :param lightPos: The position of the light source\n",
    "    :return: The fraction of incoming light that is diffusely reflected\n",
    "    '''\n",
    "    lightDirection = (lightPos - posHit).unit()\n",
    "    return max(lightDirection.dot(triangle.normal), 0) * triangle.Kd\n"
   ]
  },
  {
   "cell_type": "markdown",
   "metadata": {},
   "source": [
    "In contrast, for specular reflections, the location of the camera is important.\n"
   ]
  },
  {
   "cell_type": "code",
   "execution_count": 47,
   "metadata": {
    "pycharm": {
     "name": "#%%\n"
    }
   },
   "outputs": [],
   "source": [
    "def specular(triangle, posHit, lightPos, cameraPos):\n",
    "    '''\n",
    "    Calculate the fraction of specularly reflected light.\n",
    "    :param triangle: The triangle that has been hit\n",
    "    :param posHit: The position where it was hit\n",
    "    :param lightPos: The position of the light source\n",
    "    :param cameraPos: The position of the camera\n",
    "    :return: The fraction of incoming light that is specularly reflected\n",
    "    '''\n",
    "    lightDirection = (lightPos - posHit).unit()\n",
    "    reflec = (2 * (triangle.normal.dot(lightDirection)) * triangle.normal - lightDirection)\n",
    "    spec = max((cameraPos - posHit).unit().dot(reflec), 0)\n",
    "    return spec ** triangle.Ns * triangle.Ks"
   ]
  },
  {
   "cell_type": "markdown",
   "metadata": {},
   "source": [
    "There are only two more things that we need to do in order to render the most beautifully colored triangles the world has ever seen.\n",
    "- update the trace_ray function to use our new shading functions.\n",
    "- update the camera to use our new trace_ray function"
   ]
  },
  {
   "cell_type": "code",
   "execution_count": 48,
   "metadata": {
    "pycharm": {
     "name": "#%%\n"
    }
   },
   "outputs": [],
   "source": [
    "def trace_ray(ray, triangles, lights):\n",
    "    '''\n",
    "    Returns the color of the ray.\n",
    "    Color changes depending on the distance to the hit\n",
    "    :param ray: Ray that has been shot into the world\n",
    "    :param triangles: list of triangles in the world\n",
    "    :param lights: list of lights in the world\n",
    "    :return: color\n",
    "    '''\n",
    "    \n",
    "    has_hit = False\n",
    "    closest_hit = inf\n",
    "    \n",
    "    # We now also want a variable to safe the triangle that we hit\n",
    "    closest_tri = None\n",
    "    \n",
    "    # Loop over all triangles\n",
    "    for tri in triangles:\n",
    "        # And if there is a hit\n",
    "        t = ray.triangle_intersection_test(tri)\n",
    "        if t:\n",
    "            # Take note of the closest one\n",
    "            has_hit = True\n",
    "            if t<closest_hit:\n",
    "                closest_hit = t\n",
    "                closest_tri = tri\n",
    "    \n",
    "    # If there is a hit, return the color based on its material properties and light sources\n",
    "    if has_hit:\n",
    "        # Calculate the hit position\n",
    "        hit_pos = ray.origin+ray.direction*(closest_hit-EPSILON)\n",
    "        \n",
    "        # For all lights, calculate the diffuse and specular amounts of light\n",
    "        col = Vec3(0.0)\n",
    "        for light in lights:\n",
    "            col += diffuse(closest_tri, hit_pos, light.get_pos()) * light.color\n",
    "            col += specular(closest_tri, hit_pos, light.get_pos(), ray.origin) * light.color\n",
    "        \n",
    "        return col\n",
    "    # Else, return black\n",
    "    return Vec3(0.0)"
   ]
  },
  {
   "cell_type": "markdown",
   "metadata": {
    "pycharm": {
     "name": "#%% md\n"
    }
   },
   "source": [
    "Now that we are editing the camera function anyway, we might as well add another function!\n",
    "When working with lights it can happen that objects appear so bright, that there is no way for your screen to display it.\n",
    "This can result in weird looking images, and the triangles dont deserve that.\n",
    "Especially not the super bright ones!\n",
    "To fix this problem, we will clip all colors-brightness-values between 0 and 1.\n",
    "They might still look a bit over-exposed at times (although I will try my best not to let that happen for most example renders in this tutorial),\n",
    "but at least the colors wont be completely wrong."
   ]
  },
  {
   "cell_type": "code",
   "execution_count": 49,
   "metadata": {
    "pycharm": {
     "name": "#%%\n"
    }
   },
   "outputs": [],
   "source": [
    "import warnings\n",
    "\n",
    "def camera(camera_pos, width, height, fov, triangles, lights):\n",
    "    '''\n",
    "    Renders a image of width*height pixels, of the world of triangles.\n",
    "    As seen from the camera position\n",
    "    The field of view is how \"wide\" the lens is.\n",
    "    :param camera_pos: camera position\n",
    "    :param width: horizontal pixels\n",
    "    :param height: vertical pixels\n",
    "    :param fov: field of view\n",
    "    :param triangles: triangles in the world\n",
    "    :param lights: list of lights in the world\n",
    "    '''\n",
    "    \n",
    "    # Keep track if there has been a value that had to be clipped\n",
    "    # Only the first time this happens we want to give a warning\n",
    "    has_warned_clip = False\n",
    "    \n",
    "    image = []\n",
    "    \n",
    "    angle = tan(pi * 0.5 * fov / 180)\n",
    "    aspect_ratio = width / height\n",
    "    inv_width = 1/width\n",
    "    inv_height = 1/height\n",
    "    \n",
    "    # For all pixels of the image\n",
    "    for y in range(height):\n",
    "        row = []\n",
    "        for x in range(width):\n",
    "            # Calculate the direction of the ray for this pixel\n",
    "            xdir = (2 * x * inv_width - 1) * angle * aspect_ratio\n",
    "            ydir = (1 - 2 * y * inv_height) * angle\n",
    "            \n",
    "            raydir = Vec3(xdir, ydir, 1)\n",
    "            raydir.normalize()\n",
    "            \n",
    "            # Create the ray\n",
    "            ray = Ray(camera_pos, raydir)\n",
    "            \n",
    "            # Trace the ray, and convert color from Vec3 to [r,g,b]\n",
    "            col = trace_ray(ray, triangles, lights).toList()\n",
    "            clipped_col = clip(col,0.0,1.0)\n",
    "            if not has_warned_clip:\n",
    "                if col != clipped_col:\n",
    "                    warnings.warn(\"Image is clipping! Lights might be to bright..\")\n",
    "                    has_warned_clip = True\n",
    "            row.append(clipped_col)\n",
    "        image.append(row)\n",
    "    \n",
    "    plt.imshow(image)\n",
    "    plt.show()"
   ]
  },
  {
   "cell_type": "markdown",
   "metadata": {},
   "source": [
    "This should be all that we need!\n",
    "It is again time to render a little scene :D"
   ]
  },
  {
   "cell_type": "code",
   "execution_count": 50,
   "metadata": {
    "pycharm": {
     "name": "#%%\n"
    }
   },
   "outputs": [
    {
     "data": {
      "image/png": "[encoded data removed]",
      "text/plain": [
       "<Figure size 432x288 with 1 Axes>"
      ]
     },
     "metadata": {
      "needs_background": "light"
     },
     "output_type": "display_data"
    }
   ],
   "source": [
    "triangle_1 = Triangle(Vec3(-1,-1,3),\n",
    "                      Vec3(0,1,3),\n",
    "                      Vec3(1,-1,3),\n",
    "                      Kd=Vec3(1.0,0.5,0.0),\n",
    "                      Ks=Vec3(0.1,0.1,0.2),\n",
    "                      Ns=1)\n",
    "triangle_2 = Triangle(Vec3(0.5,0.5,1),\n",
    "                      Vec3(0.1,0,1),\n",
    "                      Vec3(0.1,0.5,1),\n",
    "                      Kd=Vec3(0.2,0.3,0.2),\n",
    "                      Ks=Vec3(0.6,0.8,0.4),\n",
    "                      Ns=150)\n",
    "triangle_3 = Triangle(Vec3(-2,1,5),\n",
    "                      Vec3(4,1,5),\n",
    "                      Vec3(1,0-1,5),\n",
    "                      Kd=Vec3(0.1,0.2,0.3),\n",
    "                      Ks=Vec3(0.8,0.4,0.6),\n",
    "                      Ns=20)\n",
    "\n",
    "light_1 = PointLight(pos=Vec3(1,1,-1),color=Vec3(0.7))\n",
    "light_2 = PointLight(pos=Vec3(-3,0,-1),color=Vec3(0.2,0.2,0.2))\n",
    "\n",
    "triangles = [triangle_1, triangle_2, triangle_3]\n",
    "lights = [light_1, light_2]\n",
    "\n",
    "camera(Vec3(0),100,100,60,triangles,lights)"
   ]
  },
  {
   "cell_type": "markdown",
   "metadata": {},
   "source": [
    "## Part 4: Small triangles can cast big shadows\n",
    "In this part we will add shadows to our ray-tracer!\n",
    "Shadows come in two kinds.\n",
    "- Hard shadows\n",
    "- Soft shadows\n",
    "\n",
    "![Hard_vs_soft_shadows](https://www.researchgate.net/profile/Joe_Kniss/publication/242383784/figure/fig3/AS:298469525868563@1448172088633/Left-Hard-shadows-from-a-point-light-source-Right-Soft-shadows-from-an-area-light.png) \n",
    "Hard shadows are what you would get with an infinitely small point light.\n",
    "In the real world light sources are not infinitely small.\n",
    "With bigger light sources, there is not only a \"shadow\" area and a \"light\" area, there is also a penumbra.\n",
    "The penumbra is a transition area, that where only part of the light is occluded.\n",
    "\n",
    "Its easier to start with hard-shadows.\n",
    "Every time, before we use the diffuse and specular functions, we need to find out if there is an unobstructed path between the object and the light source.\n",
    " "
   ]
  },
  {
   "cell_type": "code",
   "execution_count": 51,
   "metadata": {
    "pycharm": {
     "name": "#%%\n"
    }
   },
   "outputs": [],
   "source": [
    "def check_if_visible(pos, light_pos, triangle, triangles):\n",
    "    '''\n",
    "    Check if the point on the triangle is visible from the light source.\n",
    "    :param pos: Hit point\n",
    "    :param light_pos: Light source position\n",
    "    :param triangle: The triangle that is looked at\n",
    "    :param triangles: All triangles in the world\n",
    "    :return: Is the triangle visible\n",
    "    '''\n",
    "    direction = (pos - light_pos)\n",
    "    direction.normalize()\n",
    "    ray = Ray(light_pos, direction)\n",
    "    \n",
    "    has_hit = False\n",
    "    closest_hit = inf\n",
    "    closest_tri = None\n",
    "    \n",
    "    # Loop over all triangles\n",
    "    for tri in triangles:\n",
    "        # And if there is a hit\n",
    "        t = ray.triangle_intersection_test(tri)\n",
    "        if t:\n",
    "            # Take note of the closest one\n",
    "            has_hit = True\n",
    "            if t<closest_hit:\n",
    "                closest_hit = t\n",
    "                closest_tri = tri\n",
    "    \n",
    "    if has_hit:\n",
    "        return closest_tri == triangle\n",
    "    return False"
   ]
  },
  {
   "cell_type": "markdown",
   "metadata": {},
   "source": [
    "We can now put this function into the trace ray function!"
   ]
  },
  {
   "cell_type": "code",
   "execution_count": 52,
   "metadata": {
    "pycharm": {
     "name": "#%%\n"
    }
   },
   "outputs": [],
   "source": [
    "def trace_ray(ray, triangles, lights):\n",
    "    '''\n",
    "    Returns the color of the ray.\n",
    "    Color changes depending on the distance to the hit\n",
    "    :param ray: Ray that has been shot into the world\n",
    "    :param triangles: list of triangles in the world\n",
    "    :param lights: list of lights in the world\n",
    "    :return: color\n",
    "    '''\n",
    "    \n",
    "    has_hit = False\n",
    "    closest_hit = inf\n",
    "    \n",
    "    # We now also want a variable to safe the triangle that we hit\n",
    "    closest_tri = None\n",
    "    \n",
    "    # Loop over all triangles\n",
    "    for tri in triangles:\n",
    "        # And if there is a hit\n",
    "        t = ray.triangle_intersection_test(tri)\n",
    "        if t:\n",
    "            # Take note of the closest one\n",
    "            has_hit = True\n",
    "            if t<closest_hit:\n",
    "                closest_hit = t\n",
    "                closest_tri = tri\n",
    "    \n",
    "    # If there is a hit, return the color based on its material properties and light sources\n",
    "    if has_hit:\n",
    "        # Calculate the hit position\n",
    "        hit_pos = ray.origin+ray.direction*(closest_hit-EPSILON)\n",
    "        \n",
    "        # For all lights, calculate the diffuse and specular amounts of light\n",
    "        col = Vec3(0.0)\n",
    "        for light in lights:\n",
    "            if check_if_visible(hit_pos,light.get_pos(),closest_tri,triangles):\n",
    "                col += diffuse(closest_tri, hit_pos, light.get_pos()) * light.color\n",
    "                col += specular(closest_tri, hit_pos, light.get_pos(), ray.origin) * light.color\n",
    "        \n",
    "        return col\n",
    "    # Else, return black\n",
    "    return Vec3(0.0)\n"
   ]
  },
  {
   "cell_type": "markdown",
   "metadata": {},
   "source": [
    "Now that we always check for occlusions, its time to re-render our previous scene with our newly added shadow checking!\n",
    "As long as you ran the previous render before this one, the scene (all triangles and lights) should still be saved, so we only have to call the render function now."
   ]
  },
  {
   "cell_type": "code",
   "execution_count": 53,
   "metadata": {},
   "outputs": [
    {
     "data": {
      "image/png": "[encoded data removed]",
      "text/plain": [
       "<Figure size 432x288 with 1 Axes>"
      ]
     },
     "metadata": {
      "needs_background": "light"
     },
     "output_type": "display_data"
    }
   ],
   "source": [
    "camera(Vec3(0),100,100,60,triangles,lights)"
   ]
  },
  {
   "cell_type": "markdown",
   "metadata": {},
   "source": [
    "As you can see, the shadow calculations are working!\n",
    "Now that we have finished what we set out to do in this chapter, it is ones again time for a little bonus :)\n",
    "If you take a close look at the edges of the triangles, you can see that they appear to be blocky and pixelated.\n",
    "Of course this is not the way that we want our triangles to look like.\n",
    "\n",
    "To solve this problem, for every pixel in the image, we will not just trace one single ray, we will trace multiple rays, all in a slightly different direction. The reason for this is that pixels on an image sensor are not infinetly small, and we want to know the average of incoming light all the spots of the pixel.\n",
    "\n",
    "To generate the rays, every time we calculate the possision of the pixel. But now that we know that pixels have a size larger than 0, we will randomly offset that location, in order to sample from all locations on the pixel."
   ]
  },
  {
   "cell_type": "code",
   "execution_count": 54,
   "metadata": {},
   "outputs": [],
   "source": [
    "SAMPLES_PER_PIXEL = 10\n",
    "\n",
    "def camera(camera_pos, width, height, fov, triangles, lights):\n",
    "    '''\n",
    "    Renders a image of width*height pixels, of the world of triangles.\n",
    "    As seen from the camera position\n",
    "    The field of view is how \"wide\" the lens is.\n",
    "    :param camera_pos: camera position\n",
    "    :param width: horizontal pixels\n",
    "    :param height: vertical pixels\n",
    "    :param fov: field of view\n",
    "    :param triangles: triangles in the world\n",
    "    :param lights: list of lights in the world\n",
    "    '''\n",
    "    \n",
    "    # Keep track if there has been a value that had to be clipped\n",
    "    # Only the first time this happens we want to give a warning\n",
    "    has_warned_clip = False\n",
    "    \n",
    "    image = []\n",
    "    \n",
    "    angle = tan(pi * 0.5 * fov / 180)\n",
    "    aspect_ratio = width / height\n",
    "    inv_width = 1/width\n",
    "    inv_height = 1/height\n",
    "    \n",
    "    # For all pixels of the image\n",
    "    for y in range(height):\n",
    "        row = []\n",
    "        for x in range(width):\n",
    "            col = Vec3(0)\n",
    "\n",
    "            for _ in range(SAMPLES_PER_PIXEL):\n",
    "                # Calculate the direction of the ray for this pixel\n",
    "                xdir = (2 * (x+random()) * inv_width - 1) * angle * aspect_ratio\n",
    "                ydir = (1 - 2 * (y+random()) * inv_height) * angle\n",
    "\n",
    "                raydir = Vec3(xdir, ydir, 1)\n",
    "                raydir.normalize()\n",
    "\n",
    "                # Create the ray\n",
    "                ray = Ray(camera_pos, raydir)\n",
    "\n",
    "                # Trace the ray\n",
    "                col += trace_ray(ray, triangles, lights)\n",
    "            \n",
    "            # Average the samples\n",
    "            col/=SAMPLES_PER_PIXEL\n",
    "            col = col.toList()\n",
    "            clipped_col = clip(col,0.0,1.0)\n",
    "            if not has_warned_clip:\n",
    "                if col != clipped_col:\n",
    "                    warnings.warn(\"Image is clipping! Lights might be to bright..\")\n",
    "                    has_warned_clip = True\n",
    "            row.append(clipped_col)\n",
    "        image.append(row)\n",
    "    \n",
    "    plt.imshow(image)\n",
    "    plt.show()"
   ]
  },
  {
   "cell_type": "code",
   "execution_count": 55,
   "metadata": {},
   "outputs": [
    {
     "data": {
      "image/png": "[encoded data removed]",
      "text/plain": [
       "<Figure size 432x288 with 1 Axes>"
      ]
     },
     "metadata": {
      "needs_background": "light"
     },
     "output_type": "display_data"
    }
   ],
   "source": [
    "SAMPLES_PER_PIXEL = 20\n",
    "camera(Vec3(0),100,100,60,triangles,lights)"
   ]
  },
  {
   "cell_type": "markdown",
   "metadata": {},
   "source": [
    "By adjusting the amount of samples per pixel, you can get an increasingly smooth edge on your triangle. Be carefull though.\n",
    "If you want to many samples per pixel, it might be the perfect moment to make yourself some tea, because the more samples per pixel the longer the render will take."
   ]
  },
  {
   "cell_type": "markdown",
   "metadata": {},
   "source": [
    "As you can see, the edges all look a lot cleaner now!\n",
    "Now that we are able to make hard shadows, it is time to progress to soft shadows!"
   ]
  },
  {
   "cell_type": "markdown",
   "metadata": {},
   "source": [
    "## Part 5: A soft shadow is a happy shadow\n",
    "\n",
    "Making shadows soft is relativly simple.\n",
    "As previously discussed, real world light sorces are not infinitly small.\n",
    "To moddel this, we will simply move our light source a little bit everytime it gets sampled.\n",
    "To do this we will first add a size and offset to the PointLight class.\n",
    "We the add the move_light function that generates a random offset.\n",
    "Finaly we update the get_pos function to return the possision with the added random offset."
   ]
  },
  {
   "cell_type": "code",
   "execution_count": 56,
   "metadata": {},
   "outputs": [],
   "source": [
    "class PointLight:\n",
    "    def __init__(self, pos, color, size):\n",
    "        '''\n",
    "        Point light to make your world a little bit happier.\n",
    "        :param pos: position of the light\n",
    "        :param color: the color of the light\n",
    "        :param size: the size of the light\n",
    "        '''\n",
    "        self.pos = pos\n",
    "        self.offset = Vec3()\n",
    "        self.color = color\n",
    "        self.size = size\n",
    "        \n",
    "    def move_light(self):\n",
    "        '''\n",
    "        Generate a random offset for this light.\n",
    "        The larger the light size, the larger the offsets\n",
    "        '''\n",
    "        self.offset = Vec3((random() - 0.5) * self.size,\n",
    "                            (random() - 0.5) * self.size,\n",
    "                            (random() - 0.5) * self.size)\n",
    "    \n",
    "    def get_pos(self):\n",
    "        '''\n",
    "        Gets the position of the light source.\n",
    "        The possition is translated by the offset vector\n",
    "        :return: Light source position\n",
    "        '''\n",
    "        return self.pos + self.offset"
   ]
  },
  {
   "cell_type": "markdown",
   "metadata": {},
   "source": [
    "Now we need to update the light possition in the raytrace function.\n",
    "We do that every time that a light is sampled from."
   ]
  },
  {
   "cell_type": "code",
   "execution_count": 57,
   "metadata": {},
   "outputs": [],
   "source": [
    "def trace_ray(ray, triangles, lights):\n",
    "    '''\n",
    "    Returns the color of the ray.\n",
    "    Color changes depending on the distance to the hit\n",
    "    :param ray: Ray that has been shot into the world\n",
    "    :param triangles: list of triangles in the world\n",
    "    :param lights: list of lights in the world\n",
    "    :return: color\n",
    "    '''\n",
    "    \n",
    "    has_hit = False\n",
    "    closest_hit = inf\n",
    "    \n",
    "    # We now also want a variable to safe the triangle that we hit\n",
    "    closest_tri = None\n",
    "    \n",
    "    # Loop over all triangles\n",
    "    for tri in triangles:\n",
    "        # And if there is a hit\n",
    "        t = ray.triangle_intersection_test(tri)\n",
    "        if t:\n",
    "            # Take note of the closest one\n",
    "            has_hit = True\n",
    "            if t<closest_hit:\n",
    "                closest_hit = t\n",
    "                closest_tri = tri\n",
    "    \n",
    "    # If there is a hit, return the color based on its material properties and light sources\n",
    "    if has_hit:\n",
    "        # Calculate the hit position\n",
    "        hit_pos = ray.origin+ray.direction*(closest_hit-EPSILON)\n",
    "        \n",
    "        # For all lights, calculate the diffuse and specular amounts of light\n",
    "        col = Vec3(0.0)\n",
    "        for light in lights:\n",
    "            # Randomly move the light a little bit\n",
    "            light.move_light()\n",
    "            if check_if_visible(hit_pos,light.get_pos(),closest_tri,triangles):\n",
    "                col += diffuse(closest_tri, hit_pos, light.get_pos()) * light.color\n",
    "                col += specular(closest_tri, hit_pos, light.get_pos(), ray.origin) * light.color\n",
    "        \n",
    "        return col\n",
    "    # Else, return black\n",
    "    return Vec3(0.0)"
   ]
  },
  {
   "cell_type": "markdown",
   "metadata": {},
   "source": [
    "This should be all!\n",
    "Now it is time for another test :)\n",
    "The only thing that we need to do is updating the lights in our previous scene with a size."
   ]
  },
  {
   "cell_type": "code",
   "execution_count": 62,
   "metadata": {},
   "outputs": [
    {
     "data": {
      "image/png": "[encoded data removed]",
      "text/plain": [
       "<Figure size 432x288 with 1 Axes>"
      ]
     },
     "metadata": {
      "needs_background": "light"
     },
     "output_type": "display_data"
    }
   ],
   "source": [
    "light_1 = PointLight(pos=Vec3(1,1,-1),color=Vec3(0.7), size=0.2)\n",
    "light_2 = PointLight(pos=Vec3(-3,0,-1),color=Vec3(0.2,0.2,0.2), size=0.3)\n",
    "\n",
    "lights = [light_1, light_2]\n",
    "\n",
    "SAMPLES_PER_PIXEL = 40\n",
    "camera(Vec3(0),100,100,60,triangles,lights)"
   ]
  },
  {
   "cell_type": "markdown",
   "metadata": {},
   "source": [
    "As you can see there is a nice shadow now!\n",
    "But you might notice a little problem.. Uhm, I mean, Challenge!\n",
    "Rendering the image takes quite a while, and the image is a bit noisy.\n",
    "In the next chapter we will explore two techniques so fix this :)"
   ]
  }
 ],
 "metadata": {
  "kernelspec": {
   "display_name": "Python 3",
   "language": "python",
   "name": "python3"
  },
  "language_info": {
   "codemirror_mode": {
    "name": "ipython",
    "version": 3
   },
   "file_extension": ".py",
   "mimetype": "text/x-python",
   "name": "python",
   "nbconvert_exporter": "python",
   "pygments_lexer": "ipython3",
   "version": "3.7.3"
  },
  "pycharm": {
   "stem_cell": {
    "cell_type": "raw",
    "metadata": {
     "collapsed": false
    },
    "source": [
     "    %matplotlib notebook"
    ]
   }
  }
 },
 "nbformat": 4,
 "nbformat_minor": 2
}
